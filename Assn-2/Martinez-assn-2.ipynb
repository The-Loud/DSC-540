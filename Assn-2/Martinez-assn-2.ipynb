{
 "cells": [
  {
   "cell_type": "markdown",
   "metadata": {},
   "source": [
    "# Seve Martinez \n",
    "# DSC-540\n",
    "# Assignment 2: Supevised learning and classification"
   ]
  },
  {
   "cell_type": "markdown",
   "metadata": {},
   "source": [
    "## Part 1: Theory"
   ]
  },
  {
   "cell_type": "markdown",
   "metadata": {},
   "source": [
    "### 1: What is the role of a confusion matrix in the evaluation of a machine trained for a pattern recognition task? In your answer, refer to a concrete example, either from literature or one you created. Anchor you answer in relevant literature.\n",
    " \n",
    "In short, a confusion matrix is a summary of prediction results from a classification problem. It is broken down by class into a table which shows where correct and incorrect predictions are made. By this, it shows where the model was \"confused\" in classifiying a particular value.\n",
    "     \n",
    "The confusion matrix is ideal for multi-class problems because it breaks down predictions by class. Traditional accuracy calculations do not provide the detail necessary to show where the model is having problems.\n",
    "\n",
    "If we were to simply use an accuracy calculation of:\n",
    "accuracy = total correct predictions / total predictions made * 100\n",
    "\n",
    "This would not show us what was misclassified, making it more difficult to accurately tune the model.\n",
    "\n",
    "An example in code follows."
   ]
  },
  {
   "cell_type": "code",
   "execution_count": 3,
   "metadata": {},
   "outputs": [
    {
     "name": "stdout",
     "output_type": "stream",
     "text": [
      "[[4 2]\n",
      " [1 3]]\n"
     ]
    }
   ],
   "source": [
    "# Example of a confusion matrix in Python\n",
    "from sklearn.metrics import confusion_matrix\n",
    " \n",
    "expected = [1, 1, 0, 1, 0, 0, 1, 0, 0, 0]\n",
    "predicted = [1, 0, 0, 1, 0, 0, 1, 1, 1, 0]\n",
    "results = confusion_matrix(expected, predicted)\n",
    "print(results)"
   ]
  },
  {
   "cell_type": "markdown",
   "metadata": {},
   "source": [
    "The labels are:\n",
    "\n",
    "Top left: True positive\n",
    "Top right: false positive\n",
    "Bottom left: false negative\n",
    "Bottom right: true negative\n",
    "\n",
    "Columns show us precision.\n",
    "Rows show us recall.\n",
    "\n",
    "Precision is calculated as: \n",
    "\\\\[\\frac{TP}{TP+FN}\\\\]\n",
    "\n",
    "Recall is calculated as:\n",
    "\n",
    "\\\\[\\frac{TP}{TP+FP}\\\\]\n",
    "\n",
    "\n",
    "Because of the differences in models, we use harmonic mean rather than arithmetic mean to compare models. This is done with an F-measure:\n",
    "\n",
    "\\\\[\\frac{2*Recall*Precision}{Recall+Precision}\\\\]\n",
    "\n",
    "So we can see that boxes 2 and 3 show us where there are errors. In this simple example, there were two values that were labeled positive but weren't and one that was labeled negative but was not. Box 2 is a Type I error, box 3 is a type II error.\n",
    "\n",
    "\n",
    "The main benefit here over the accuracy prediction is the breakdown of the data. We can clearly see that this shows us where errors are in classficiation and can help us understand if, for example, classes are misrepresented and we need a better dataset."
   ]
  },
  {
   "cell_type": "markdown",
   "metadata": {},
   "source": [
    "### 2: What is the role of the ROC curve? How would you use it to compare the performance of several classifiers? In your answer, refer to concrete examples of classifiers, either from literature or one you created. Illustrate the ROC curves and anchor your answer in relevant literature.\n",
    " \n",
    "The Receiver Operating Characteristics (ROC) Area Under the Curve (AUC) is used to determine how well the model is able to distinguish between classes. The scale is from 0 to 1 with 1 being the best and 0 being completely unable to discern. Generally, the higher the number the better.\n",
    "\n",
    "It is calculated using the True Positive Rate (TPR) and False Positive Rate (FPR). \n",
    "\n",
    "TPR: \n",
    "\\\\[\\frac{TP}{TP+FN}\\\\]\n",
    "\n",
    "\n",
    "Specificity:\n",
    "\\\\[\\frac{TN}{TN+FP}\\\\]\n",
    "\n",
    "FPR:\n",
    "1 - Specificity\n",
    "\n",
    "Below is the example from the sci-kit learn website for the ROC method:"
   ]
  },
  {
   "cell_type": "code",
   "execution_count": 4,
   "metadata": {},
   "outputs": [
    {
     "data": {
      "image/png": "[encoded data removed]",
      "text/plain": [
       "<Figure size 432x288 with 1 Axes>"
      ]
     },
     "metadata": {
      "needs_background": "light"
     },
     "output_type": "display_data"
    }
   ],
   "source": [
    "import numpy as np\n",
    "import matplotlib.pyplot as plt\n",
    "from itertools import cycle\n",
    "\n",
    "from sklearn import svm, datasets\n",
    "from sklearn.metrics import roc_curve, auc\n",
    "from sklearn.model_selection import train_test_split\n",
    "from sklearn.preprocessing import label_binarize\n",
    "from sklearn.multiclass import OneVsRestClassifier\n",
    "from scipy import interp\n",
    "from sklearn.metrics import roc_auc_score\n",
    "\n",
    "# Import some data to play with\n",
    "iris = datasets.load_iris()\n",
    "X = iris.data\n",
    "y = iris.target\n",
    "\n",
    "# Binarize the output\n",
    "y = label_binarize(y, classes=[0, 1, 2])\n",
    "n_classes = y.shape[1]\n",
    "\n",
    "# Add noisy features to make the problem harder\n",
    "random_state = np.random.RandomState(0)\n",
    "n_samples, n_features = X.shape\n",
    "X = np.c_[X, random_state.randn(n_samples, 200 * n_features)]\n",
    "\n",
    "# shuffle and split training and test sets\n",
    "X_train, X_test, y_train, y_test = train_test_split(X, y, test_size=.5,\n",
    "                                                    random_state=0)\n",
    "\n",
    "# Learn to predict each class against the other\n",
    "classifier = OneVsRestClassifier(svm.SVC(kernel='linear', probability=True,\n",
    "                                 random_state=random_state))\n",
    "y_score = classifier.fit(X_train, y_train).decision_function(X_test)\n",
    "\n",
    "# Compute ROC curve and ROC area for each class\n",
    "fpr = dict()\n",
    "tpr = dict()\n",
    "roc_auc = dict()\n",
    "for i in range(n_classes):\n",
    "    fpr[i], tpr[i], _ = roc_curve(y_test[:, i], y_score[:, i])\n",
    "    roc_auc[i] = auc(fpr[i], tpr[i])\n",
    "\n",
    "# Compute micro-average ROC curve and ROC area\n",
    "fpr[\"micro\"], tpr[\"micro\"], _ = roc_curve(y_test.ravel(), y_score.ravel())\n",
    "roc_auc[\"micro\"] = auc(fpr[\"micro\"], tpr[\"micro\"])\n",
    "\n",
    "plt.figure()\n",
    "lw = 2\n",
    "plt.plot(fpr[2], tpr[2], color='darkorange',\n",
    "         lw=lw, label='ROC curve (area = %0.2f)' % roc_auc[2])\n",
    "plt.plot([0, 1], [0, 1], color='navy', lw=lw, linestyle='--')\n",
    "plt.xlim([0.0, 1.0])\n",
    "plt.ylim([0.0, 1.05])\n",
    "plt.xlabel('False Positive Rate')\n",
    "plt.ylabel('True Positive Rate')\n",
    "plt.title('Receiver operating characteristic example')\n",
    "plt.legend(loc=\"lower right\")\n",
    "plt.show()"
   ]
  },
  {
   "cell_type": "markdown",
   "metadata": {},
   "source": [
    "Here we can see the curve, and an ROC of 0.79 which shows the model strength and distinguishing classes of the iris data set in this example. It can be interpreted as the model has a 79% chance of predicting the correct class.\n",
    "\n",
    "The distribution threshold overlap will help to determine the strength of the model. If the TN and FP curves are completely independent, then the ROC will equal 1 as the two distributions do not touch whatsoever.\n",
    "\n",
    "When the distributions overlap some, we introduce type 1 and type 2 errors. The model will continue to struggle as the distributions continue to overlap more and more.\n",
    "\n",
    "At complete overlap where both distributions are identical, the model will be unable to determine the class and the AUC = 0.5. This will produce all sorts of errors.\n",
    "\n",
    "Finally, if they are completely opposite, it means the model is classing things incorrectly and the AUC = 0.\n",
    "\n",
    "The ROC is ideal for two classes. However, if there are three or more, there will need to be N number of comparison graphs. For example with three, there will be one for X and Y, X and Z, and Y and Z and so on."
   ]
  },
  {
   "cell_type": "markdown",
   "metadata": {},
   "source": [
    "## Part 2: Application\n",
    "\n",
    "You are tasked to build an image classifier for the MNIST dataset of handwritten numbers, implementing the k-nearest neighbors (k-NN) algorithm. You will need the following:\n",
    "\n",
    "    The MNIST dataset, available on multiple servers on the Internet. For example:\n",
    "        http://yann.lecun.com/exdb/mnist/\n",
    "        http://www.pymvpa.org/datadb/mnist.html\n",
    "    The Python package neighbors.KNeighborsClassifier:  https://scikit-learn.org/stable/modules/generated/sklearn.neighbors.KNeighborsClassifier.html\n",
    "\n",
    "The input to your classifier program is an image containing a digit, 0-9. Your program must correctly identify the digit with an accuracy of 95%. Here the outline of your task, but you will have to do a bit of research on your own (and increasingly so throughout the program) to fill in the details:\n",
    "\n",
    "Familiarize yourself with the MNIST dataset\n",
    "\n",
    "Familiarize yourself with the k-NN algorithm and its Python implementation in sklearn\n",
    "\n",
    "Create a Jupyter notebook for this assignment and implement the k-NN algorithm:\n",
    "\n",
    "- Import the package kNeighborsClassifier.\n",
    "- Be mindful of the train-test split and set the parameters accordingly (justify your choice).\n",
    "- Identify the variables in the dataset and define the Euclidean distance between an element in the test set and the training set.\n",
    "- Calculate the distance between the test element and each of if its k nearest neighbors.\n",
    "- Count the occurrence of each digit within the k nearest neighbors and identify the most popular digit.\n",
    "- Identify the test element as the digit voted as most popular in the set of the k nearest neighbors.\n",
    "- Classify the test element accordingly (i.e. based on the popular vote).\n",
    "- Calculate the error.\n"
   ]
  },
  {
   "cell_type": "markdown",
   "metadata": {},
   "source": [
    "### The k-NN algorithm\n",
    "\n",
    "k-nearest neighbors is a simple algorithm and uses \"lazy learning,\" meaning that it does not need to be trained on a dataset prior to classification tasks. The simplicity of this model is its attractive trait.\n",
    "\n",
    "The \"K\" in the name refers to the number of neighbor points to be considered. If we select a random point and place it on the graph, it will consider k number of points around it and will \"vote\" on the selected class. \n",
    "\n",
    "Choosing a particular k is usually a matter of trial and error. Low k values can be noisy and sensitive to outliers. However large values of k can smooth over key indicators and place too many neighbors into the vote."
   ]
  },
  {
   "cell_type": "code",
   "execution_count": 22,
   "metadata": {},
   "outputs": [],
   "source": [
    "import numpy as np\n",
    "import pandas as pd\n",
    "import matplotlib.pyplot as plt\n",
    "from sklearn.neighbors import KNeighborsClassifier #The utility\n",
    "from sklearn.metrics import accuracy_score #for scoring\n",
    "from sklearn.preprocessing import Normalizer # so that we can have unit length vectors\n",
    "\n",
    "# for reproducibility\n",
    "np.random.seed(69)"
   ]
  },
  {
   "cell_type": "code",
   "execution_count": 23,
   "metadata": {},
   "outputs": [],
   "source": [
    "# Let's import the dataset now. Fortunately we can use the MNIST in a convenient csv file for this.\n",
    "train_df = pd.read_csv('mnist_train.csv')\n",
    "test_df = pd.read_csv('mnist_test.csv')"
   ]
  },
  {
   "cell_type": "code",
   "execution_count": 24,
   "metadata": {},
   "outputs": [
    {
     "data": {
      "text/html": [
       "<div>\n",
       "<style scoped>\n",
       "    .dataframe tbody tr th:only-of-type {\n",
       "        vertical-align: middle;\n",
       "    }\n",
       "\n",
       "    .dataframe tbody tr th {\n",
       "        vertical-align: top;\n",
       "    }\n",
       "\n",
       "    .dataframe thead th {\n",
       "        text-align: right;\n",
       "    }\n",
       "</style>\n",
       "<table border=\"1\" class=\"dataframe\">\n",
       "  <thead>\n",
       "    <tr style=\"text-align: right;\">\n",
       "      <th></th>\n",
       "      <th>5</th>\n",
       "      <th>0</th>\n",
       "      <th>0.1</th>\n",
       "      <th>0.2</th>\n",
       "      <th>0.3</th>\n",
       "      <th>0.4</th>\n",
       "      <th>0.5</th>\n",
       "      <th>0.6</th>\n",
       "      <th>0.7</th>\n",
       "      <th>0.8</th>\n",
       "      <th>...</th>\n",
       "      <th>0.608</th>\n",
       "      <th>0.609</th>\n",
       "      <th>0.610</th>\n",
       "      <th>0.611</th>\n",
       "      <th>0.612</th>\n",
       "      <th>0.613</th>\n",
       "      <th>0.614</th>\n",
       "      <th>0.615</th>\n",
       "      <th>0.616</th>\n",
       "      <th>0.617</th>\n",
       "    </tr>\n",
       "  </thead>\n",
       "  <tbody>\n",
       "    <tr>\n",
       "      <th>0</th>\n",
       "      <td>0</td>\n",
       "      <td>0</td>\n",
       "      <td>0</td>\n",
       "      <td>0</td>\n",
       "      <td>0</td>\n",
       "      <td>0</td>\n",
       "      <td>0</td>\n",
       "      <td>0</td>\n",
       "      <td>0</td>\n",
       "      <td>0</td>\n",
       "      <td>...</td>\n",
       "      <td>0</td>\n",
       "      <td>0</td>\n",
       "      <td>0</td>\n",
       "      <td>0</td>\n",
       "      <td>0</td>\n",
       "      <td>0</td>\n",
       "      <td>0</td>\n",
       "      <td>0</td>\n",
       "      <td>0</td>\n",
       "      <td>0</td>\n",
       "    </tr>\n",
       "    <tr>\n",
       "      <th>1</th>\n",
       "      <td>4</td>\n",
       "      <td>0</td>\n",
       "      <td>0</td>\n",
       "      <td>0</td>\n",
       "      <td>0</td>\n",
       "      <td>0</td>\n",
       "      <td>0</td>\n",
       "      <td>0</td>\n",
       "      <td>0</td>\n",
       "      <td>0</td>\n",
       "      <td>...</td>\n",
       "      <td>0</td>\n",
       "      <td>0</td>\n",
       "      <td>0</td>\n",
       "      <td>0</td>\n",
       "      <td>0</td>\n",
       "      <td>0</td>\n",
       "      <td>0</td>\n",
       "      <td>0</td>\n",
       "      <td>0</td>\n",
       "      <td>0</td>\n",
       "    </tr>\n",
       "    <tr>\n",
       "      <th>2</th>\n",
       "      <td>1</td>\n",
       "      <td>0</td>\n",
       "      <td>0</td>\n",
       "      <td>0</td>\n",
       "      <td>0</td>\n",
       "      <td>0</td>\n",
       "      <td>0</td>\n",
       "      <td>0</td>\n",
       "      <td>0</td>\n",
       "      <td>0</td>\n",
       "      <td>...</td>\n",
       "      <td>0</td>\n",
       "      <td>0</td>\n",
       "      <td>0</td>\n",
       "      <td>0</td>\n",
       "      <td>0</td>\n",
       "      <td>0</td>\n",
       "      <td>0</td>\n",
       "      <td>0</td>\n",
       "      <td>0</td>\n",
       "      <td>0</td>\n",
       "    </tr>\n",
       "    <tr>\n",
       "      <th>3</th>\n",
       "      <td>9</td>\n",
       "      <td>0</td>\n",
       "      <td>0</td>\n",
       "      <td>0</td>\n",
       "      <td>0</td>\n",
       "      <td>0</td>\n",
       "      <td>0</td>\n",
       "      <td>0</td>\n",
       "      <td>0</td>\n",
       "      <td>0</td>\n",
       "      <td>...</td>\n",
       "      <td>0</td>\n",
       "      <td>0</td>\n",
       "      <td>0</td>\n",
       "      <td>0</td>\n",
       "      <td>0</td>\n",
       "      <td>0</td>\n",
       "      <td>0</td>\n",
       "      <td>0</td>\n",
       "      <td>0</td>\n",
       "      <td>0</td>\n",
       "    </tr>\n",
       "    <tr>\n",
       "      <th>4</th>\n",
       "      <td>2</td>\n",
       "      <td>0</td>\n",
       "      <td>0</td>\n",
       "      <td>0</td>\n",
       "      <td>0</td>\n",
       "      <td>0</td>\n",
       "      <td>0</td>\n",
       "      <td>0</td>\n",
       "      <td>0</td>\n",
       "      <td>0</td>\n",
       "      <td>...</td>\n",
       "      <td>0</td>\n",
       "      <td>0</td>\n",
       "      <td>0</td>\n",
       "      <td>0</td>\n",
       "      <td>0</td>\n",
       "      <td>0</td>\n",
       "      <td>0</td>\n",
       "      <td>0</td>\n",
       "      <td>0</td>\n",
       "      <td>0</td>\n",
       "    </tr>\n",
       "  </tbody>\n",
       "</table>\n",
       "<p>5 rows × 785 columns</p>\n",
       "</div>"
      ],
      "text/plain": [
       "   5  0  0.1  0.2  0.3  0.4  0.5  0.6  0.7  0.8  ...  0.608  0.609  0.610  \\\n",
       "0  0  0    0    0    0    0    0    0    0    0  ...      0      0      0   \n",
       "1  4  0    0    0    0    0    0    0    0    0  ...      0      0      0   \n",
       "2  1  0    0    0    0    0    0    0    0    0  ...      0      0      0   \n",
       "3  9  0    0    0    0    0    0    0    0    0  ...      0      0      0   \n",
       "4  2  0    0    0    0    0    0    0    0    0  ...      0      0      0   \n",
       "\n",
       "   0.611  0.612  0.613  0.614  0.615  0.616  0.617  \n",
       "0      0      0      0      0      0      0      0  \n",
       "1      0      0      0      0      0      0      0  \n",
       "2      0      0      0      0      0      0      0  \n",
       "3      0      0      0      0      0      0      0  \n",
       "4      0      0      0      0      0      0      0  \n",
       "\n",
       "[5 rows x 785 columns]"
      ]
     },
     "execution_count": 24,
     "metadata": {},
     "output_type": "execute_result"
    }
   ],
   "source": [
    "# The data has been converted to image data of varying grascale intensity from 0-255.\n",
    "# Here's an example of the data.\n",
    "\n",
    "train_df.head()"
   ]
  },
  {
   "cell_type": "markdown",
   "metadata": {},
   "source": [
    "This data has already been split up for us, which was a 59999 train set and 9999 test set. This is the defacto split that was provided in the original data. "
   ]
  },
  {
   "cell_type": "code",
   "execution_count": 25,
   "metadata": {},
   "outputs": [
    {
     "data": {
      "text/plain": [
       "0        0\n",
       "1        4\n",
       "2        1\n",
       "3        9\n",
       "4        2\n",
       "        ..\n",
       "59994    8\n",
       "59995    3\n",
       "59996    5\n",
       "59997    6\n",
       "59998    8\n",
       "Name: 5, Length: 59999, dtype: int64"
      ]
     },
     "execution_count": 25,
     "metadata": {},
     "output_type": "execute_result"
    }
   ],
   "source": [
    "# The first column is the label column. We can see that the digits are labled 0-9.\n",
    "train_df.iloc[:, 0]"
   ]
  },
  {
   "cell_type": "code",
   "execution_count": 30,
   "metadata": {},
   "outputs": [],
   "source": [
    "# Typical method displayed here. The label (y) will be moved to it's own data frame and the X_train/test\n",
    "# dataframes will contain the independent value information. Even though you don't \"train\" a k-NN algorithm,\n",
    "# we still need to tell it what is labeled what so that the classes are known to the model.\n",
    "# Here I use index location to capture the labels column. After that I show that column name can be used as well.\n",
    "\n",
    "y_train = train_df.iloc[:,0]\n",
    "X_train = train_df.drop(labels=['5'], axis=1)\n",
    "\n",
    "y_test = test_df.iloc[:,0]\n",
    "X_test = test_df.drop(labels=['5'], axis=1)\n",
    "\n",
    "# normalize\n",
    "X_train = Normalizer().fit_transform(X_train)\n",
    "X_test = Normalizer().fit_transform(X_test)\n"
   ]
  },
  {
   "cell_type": "code",
   "execution_count": 34,
   "metadata": {},
   "outputs": [
    {
     "data": {
      "image/png": "[encoded data removed]",
      "text/plain": [
       "<Figure size 432x288 with 9 Axes>"
      ]
     },
     "metadata": {
      "needs_background": "light"
     },
     "output_type": "display_data"
    }
   ],
   "source": [
    "# The original MNIST dataset consists of images of digits in 28x28 format. Since we've got the image data \n",
    "# rather than the images, we can use a loop to go through a few of the digit rows and show the digits:\n",
    "\n",
    "\n",
    "plt.figure # instantiate the figure\n",
    "for i in range(9):\n",
    "    plt.subplot(3, 3, i+1) #This will create a 3x3 plot rather than 9 separate plots\n",
    "    plt.imshow(X_train[i].reshape(28, 28), cmap='gray') # the original values are 28x28\n",
    "    plt.title(y_train[i])\n",
    "    plt.axis('off')\n",
    "plt.show()"
   ]
  },
  {
   "cell_type": "markdown",
   "metadata": {},
   "source": [
    "The Euclidean distance is as follows:\n",
    "\n",
    "\\\\[d(q, p) = \\sqrt{\\sum_{i=1}^{n}(q_i - p_i)^2}\\\\]\n",
    "\n",
    "Which we can write a simple function to calculate distance:"
   ]
  },
  {
   "cell_type": "code",
   "execution_count": 37,
   "metadata": {},
   "outputs": [],
   "source": [
    "def e_dist(img_q, img_p):\n",
    "    '''Calculate Euclidean distance between two images'''\n",
    "    return sum((img_q - img_p) ** 2)"
   ]
  },
  {
   "cell_type": "code",
   "execution_count": null,
   "metadata": {},
   "outputs": [],
   "source": []
  },
  {
   "cell_type": "markdown",
   "metadata": {},
   "source": [
    "References:\n",
    "\n",
    "Brownlee, J. (2020). What is a Confusion Matrix in Machine Learning. Machine Learning Mastery. https://machinelearningmastery.com/confusion-matrix-machine-learning/\n",
    "\n",
    "Narkhede, S. (2018). Understanding Confusion Matrix. Towards Data Science. https://towardsdatascience.com/understanding-confusion-matrix-a9ad42dcfd62\n",
    "\n",
    "Narkhede, S. (2018). Understanding AUC-ROC Curve. Towards Data Science. https://towardsdatascience.com/understanding-auc-roc-curve-68b2303cc9c5\n",
    "\n"
   ]
  },
  {
   "cell_type": "markdown",
   "metadata": {},
   "source": []
  }
 ],
 "metadata": {
  "kernelspec": {
   "display_name": "Python 3",
   "language": "python",
   "name": "python3"
  },
  "language_info": {
   "codemirror_mode": {
    "name": "ipython",
    "version": 3
   },
   "file_extension": ".py",
   "mimetype": "text/x-python",
   "name": "python",
   "nbconvert_exporter": "python",
   "pygments_lexer": "ipython3",
   "version": "3.7.9"
  }
 },
 "nbformat": 4,
 "nbformat_minor": 4
}
