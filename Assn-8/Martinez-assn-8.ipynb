{
 "cells": [
  {
   "cell_type": "markdown",
   "metadata": {},
   "source": [
    "# Martinez Assignment 8 - Ensemble Methods"
   ]
  },
  {
   "cell_type": "markdown",
   "metadata": {},
   "source": [
    "\n",
    "\n",
    "This assignment is a bit different. One of the key expectations from any published article is reproducibility of results, especially in data science. In the last assignment in this course, you are tasked with attempting to reproduce the study described in a peer-reviewed article, published by the National Institute of Health (nih.gov). This tasked is aimed at gradually building your capacity to tackle complex topics, familiarize yourself with academic discourse, and provide context and practice for the skills you will eventually need when working on your capstone thesis or project.\n",
    "\n",
    "Ensemble-Based Classifier\n",
    "\n",
    "Familiarize yourself with the ensemble package in Python and its use in a Jupyter notebook by utilizing the “Ensemble Methods for Classification of Physical Activities” to complete this assignment. \n",
    "\n",
    "Note the additional digital resources in Supplemental Digital Content at the bottom of the article. Also, note that the dataset used in the article is available for download from the UCI repository and the direct link is included in the article in the Methods section, Data set 1.\n",
    "\n",
    "Another useful resource is “A Comprehensive Guide to Ensemble Learning (with Python codes).”\n",
    "\n",
    "Once you have reviewed the required resources, complete the following:\n",
    "\n",
    "Follow the steps described in the article for acquiring the data and building a classifier (in Python) that implements an ensemble framework. It is expected that you will encounter obstacles along the way and not every step mentioned in the article will be straightforward to implement. Ideally, you will be able to reproduce the project in its entirety. Less than ideal, but still very useful, would be to attempt most steps, adapt some, maybe eliminate one or two classification methods from the ensemble, but still produce a working classifier. Given the breadth and depth of the projects you worked on in this course and given the detailed resources provided that cover both theory and implementation, you are expected to successfully complete this project.\n",
    "\n",
    "In the event that you are able to fully implement the steps described in the article, it would make an excellent opportunity to write a paper informing the scientific community (and the authors) that you are corroborating the results. If you followed the steps to the letter, it would be even more interesting if you obtained a different result. In such case, the scientific community should hear from you.\n",
    "\n",
    "Create a technical report (no need to rewrite the article), in which you document your work, all steps, including the code and its output. Compare the results to the ones in the article, even if your ensemble framework is not identical to the one described in the article.\n",
    "\n",
    "APA style is expected, as well as formal and rigorous scientific writing, using appropriate mathematical notation and references.\n",
    "\n",
    "This assignment uses a rubric. Review the rubric prior to beginning the assignment to become familiar with the expectations for successful completion.\n",
    "\n",
    "You are not required to submit this assignment to LopesWrite.\n",
    "\n",
    "Benchmark Information:\n",
    "This benchmark assignment assesses the following programmatic competency: \n",
    "\n",
    "MS Data Science\n",
    "\n",
    "\n",
    "1.2 Effectively use variety of data analytics techniques, such as Machine Learning (including supervised, unsupervised, semisupervised learning), Data Mining, Prescriptive and Predictive Analytics, for complex data analysis through the whole data lifecycle.\n"
   ]
  },
  {
   "cell_type": "code",
   "execution_count": 134,
   "metadata": {},
   "outputs": [],
   "source": [
    "import pandas as pd\n",
    "import numpy as np\n",
    "import os # for the file merging\n",
    "from sklearn.impute import SimpleImputer # To handle the null values\n",
    "from matplotlib import pyplot as plt\n",
    "from sklearn.ensemble import VotingClassifier # Weighted Voting ('soft')\n",
    "from sklearn.neighbors import KNeighborsClassifier # KNN\n",
    "from sklearn.svm import SVC # Support vector machine\n",
    "from sklearn.neural_network import MLPClassifier # ANN\n",
    "from sklearn.tree import DecisionTreeClassifier # Binary decision tree\n",
    "from sklearn.naive_bayes import MultinomialNB # For the Behavior Knowledge Space\n",
    "from sklearn.naive_bayes import GaussianNB # Naive Bayes\n",
    "import itertools"
   ]
  },
  {
   "cell_type": "code",
   "execution_count": 31,
   "metadata": {},
   "outputs": [],
   "source": [
    "# There are nine files, one per subject. So all will be combined in order to simplify the process.\n",
    "\n",
    "path = '../data/PAMAP2_Dataset/Protocol'\n",
    "\n",
    "file_list = os.listdir(path)\n",
    "for filename in sorted(file_list):\n",
    "    out_filename = 'pamap.txt'\n",
    "    with open(out_filename, 'a') as outfile:\n",
    "        with open(path + '/' + filename, 'r') as infile:\n",
    "            outfile.write(infile.read())"
   ]
  },
  {
   "cell_type": "code",
   "execution_count": 140,
   "metadata": {},
   "outputs": [],
   "source": [
    "# Load the combined subject dataset into a dataframe\n",
    "# The study only used the wrist data, so the rest is dropped\n",
    "\n",
    "cols = ['timestamp', 'activityID', 'heartrate', 'w1', 'w2', 'w3', 'w4', 'w5', 'w6'\n",
    "        ,'w7', 'w8', 'w9', 'w10', 'w11', 'w12', 'w13', 'w14', 'w15', 'w16', 'w17']\n",
    "\n",
    "df = pd.read_csv('pamap.txt', ' ', header=None)\n",
    "\n",
    "df.drop(df.iloc[:, 20:], axis = 1, inplace=True)\n",
    "df.columns=cols"
   ]
  },
  {
   "cell_type": "code",
   "execution_count": 141,
   "metadata": {},
   "outputs": [
    {
     "data": {
      "text/plain": [
       "(2872533, 20)"
      ]
     },
     "execution_count": 141,
     "metadata": {},
     "output_type": "execute_result"
    }
   ],
   "source": [
    "df.shape"
   ]
  },
  {
   "cell_type": "code",
   "execution_count": 5,
   "metadata": {},
   "outputs": [],
   "source": [
    "# Convert the dataframe to time series. Because we only have seconds, the dates will start at the \n",
    "# unix epoch start date of 1970-01-01. \n",
    "\n",
    "# df['timestamp'] = pd.to_datetime(df['timestamp'], unit='s')"
   ]
  },
  {
   "cell_type": "code",
   "execution_count": 6,
   "metadata": {},
   "outputs": [
    {
     "data": {
      "text/plain": [
       "0     929661\n",
       "4     238761\n",
       "17    238690\n",
       "1     192523\n",
       "3     189931\n",
       "7     188107\n",
       "2     185188\n",
       "16    175353\n",
       "6     164600\n",
       "12    117216\n",
       "13    104944\n",
       "5      98199\n",
       "24     49360\n",
       "Name: activityID, dtype: int64"
      ]
     },
     "execution_count": 6,
     "metadata": {},
     "output_type": "execute_result"
    }
   ],
   "source": [
    "df['activityID'].value_counts()"
   ]
  },
  {
   "cell_type": "code",
   "execution_count": 142,
   "metadata": {},
   "outputs": [
    {
     "data": {
      "text/plain": [
       "Index(['timestamp', 'activityID', 'w2', 'w3', 'w4'], dtype='object')"
      ]
     },
     "execution_count": 142,
     "metadata": {},
     "output_type": "execute_result"
    }
   ],
   "source": [
    "# Per the dataset instructions, an activityID of 0 should be removed\n",
    "# The study did not explicitly state whether or not they removed it,\n",
    "# but it would be prudent to do so.\n",
    "# Only the data from the accelerometer is used so heartrate will also be dropped.\n",
    "# In addition, only values w2-4 are for the +/- 16g accelerometer\n",
    "# Which is the one used in the study. The other columns will be dropped.\n",
    "\n",
    "df.drop(df[df['activityID'] == 0].index, inplace=True)\n",
    "#df.drop('heartrate', inplace=True, axis=1)\n",
    "\n",
    "keeps = ['timestamp', 'activityID', 'w2', 'w3', 'w4']\n",
    "df = df[keeps]\n",
    "\n",
    "df.columns"
   ]
  },
  {
   "cell_type": "code",
   "execution_count": 143,
   "metadata": {},
   "outputs": [
    {
     "data": {
      "text/html": [
       "<div>\n",
       "<style scoped>\n",
       "    .dataframe tbody tr th:only-of-type {\n",
       "        vertical-align: middle;\n",
       "    }\n",
       "\n",
       "    .dataframe tbody tr th {\n",
       "        vertical-align: top;\n",
       "    }\n",
       "\n",
       "    .dataframe thead th {\n",
       "        text-align: right;\n",
       "    }\n",
       "</style>\n",
       "<table border=\"1\" class=\"dataframe\">\n",
       "  <thead>\n",
       "    <tr style=\"text-align: right;\">\n",
       "      <th></th>\n",
       "      <th>timestamp</th>\n",
       "      <th>activityID</th>\n",
       "      <th>w2</th>\n",
       "      <th>w3</th>\n",
       "      <th>w4</th>\n",
       "    </tr>\n",
       "  </thead>\n",
       "  <tbody>\n",
       "    <tr>\n",
       "      <th>19193</th>\n",
       "      <td>200.31</td>\n",
       "      <td>1</td>\n",
       "      <td>NaN</td>\n",
       "      <td>NaN</td>\n",
       "      <td>NaN</td>\n",
       "    </tr>\n",
       "    <tr>\n",
       "      <th>19194</th>\n",
       "      <td>200.32</td>\n",
       "      <td>1</td>\n",
       "      <td>NaN</td>\n",
       "      <td>NaN</td>\n",
       "      <td>NaN</td>\n",
       "    </tr>\n",
       "    <tr>\n",
       "      <th>19195</th>\n",
       "      <td>200.33</td>\n",
       "      <td>1</td>\n",
       "      <td>NaN</td>\n",
       "      <td>NaN</td>\n",
       "      <td>NaN</td>\n",
       "    </tr>\n",
       "    <tr>\n",
       "      <th>34152</th>\n",
       "      <td>349.90</td>\n",
       "      <td>2</td>\n",
       "      <td>NaN</td>\n",
       "      <td>NaN</td>\n",
       "      <td>NaN</td>\n",
       "    </tr>\n",
       "    <tr>\n",
       "      <th>45999</th>\n",
       "      <td>468.37</td>\n",
       "      <td>2</td>\n",
       "      <td>NaN</td>\n",
       "      <td>NaN</td>\n",
       "      <td>NaN</td>\n",
       "    </tr>\n",
       "    <tr>\n",
       "      <th>...</th>\n",
       "      <td>...</td>\n",
       "      <td>...</td>\n",
       "      <td>...</td>\n",
       "      <td>...</td>\n",
       "      <td>...</td>\n",
       "    </tr>\n",
       "    <tr>\n",
       "      <th>2843922</th>\n",
       "      <td>3884.86</td>\n",
       "      <td>24</td>\n",
       "      <td>NaN</td>\n",
       "      <td>NaN</td>\n",
       "      <td>NaN</td>\n",
       "    </tr>\n",
       "    <tr>\n",
       "      <th>2843923</th>\n",
       "      <td>3884.87</td>\n",
       "      <td>24</td>\n",
       "      <td>NaN</td>\n",
       "      <td>NaN</td>\n",
       "      <td>NaN</td>\n",
       "    </tr>\n",
       "    <tr>\n",
       "      <th>2843950</th>\n",
       "      <td>3885.14</td>\n",
       "      <td>24</td>\n",
       "      <td>NaN</td>\n",
       "      <td>NaN</td>\n",
       "      <td>NaN</td>\n",
       "    </tr>\n",
       "    <tr>\n",
       "      <th>2871906</th>\n",
       "      <td>93.97</td>\n",
       "      <td>24</td>\n",
       "      <td>NaN</td>\n",
       "      <td>NaN</td>\n",
       "      <td>NaN</td>\n",
       "    </tr>\n",
       "    <tr>\n",
       "      <th>2871907</th>\n",
       "      <td>93.98</td>\n",
       "      <td>24</td>\n",
       "      <td>NaN</td>\n",
       "      <td>NaN</td>\n",
       "      <td>NaN</td>\n",
       "    </tr>\n",
       "  </tbody>\n",
       "</table>\n",
       "<p>11124 rows × 5 columns</p>\n",
       "</div>"
      ],
      "text/plain": [
       "         timestamp  activityID  w2  w3  w4\n",
       "19193       200.31           1 NaN NaN NaN\n",
       "19194       200.32           1 NaN NaN NaN\n",
       "19195       200.33           1 NaN NaN NaN\n",
       "34152       349.90           2 NaN NaN NaN\n",
       "45999       468.37           2 NaN NaN NaN\n",
       "...            ...         ...  ..  ..  ..\n",
       "2843922    3884.86          24 NaN NaN NaN\n",
       "2843923    3884.87          24 NaN NaN NaN\n",
       "2843950    3885.14          24 NaN NaN NaN\n",
       "2871906      93.97          24 NaN NaN NaN\n",
       "2871907      93.98          24 NaN NaN NaN\n",
       "\n",
       "[11124 rows x 5 columns]"
      ]
     },
     "execution_count": 143,
     "metadata": {},
     "output_type": "execute_result"
    }
   ],
   "source": [
    "# So we have quite a few null values that will have to be handled.\n",
    "# There are a consistent number of nulls that comprise only 0.5% of the entire dataset\n",
    "# The easiest thing would be to drop them, but in the spirit of the study, they will\n",
    "# be imputed.\n",
    "\n",
    "# The authors used linear interpolation to determine the values, but for simplicity,\n",
    "# mean will be used here.\n",
    "df[df['w2'].isnull()]"
   ]
  },
  {
   "cell_type": "code",
   "execution_count": 144,
   "metadata": {},
   "outputs": [
    {
     "data": {
      "text/plain": [
       "timestamp     False\n",
       "activityID    False\n",
       "w2            False\n",
       "w3            False\n",
       "w4            False\n",
       "dtype: bool"
      ]
     },
     "execution_count": 144,
     "metadata": {},
     "output_type": "execute_result"
    }
   ],
   "source": [
    "# The authors used linear interpolation to determine the values, but for simplicity,\n",
    "# mean will be used here.\n",
    "# Use the simpleimputer class from sklearn and leverage 'mean' as the fill value\n",
    "fill_NaN = SimpleImputer(missing_values=np.nan, strategy='mean')\n",
    "imputed_df = pd.DataFrame(fill_NaN.fit_transform(df))\n",
    "\n",
    "# Rebuild the dataframe\n",
    "imputed_df.columns = df.columns\n",
    "imputed_df.index = df.index\n",
    "\n",
    "# Verify it worked\n",
    "imputed_df.head().isnull().any()"
   ]
  },
  {
   "cell_type": "code",
   "execution_count": 145,
   "metadata": {},
   "outputs": [
    {
     "data": {
      "text/plain": [
       "(1942872, 5)"
      ]
     },
     "execution_count": 145,
     "metadata": {},
     "output_type": "execute_result"
    }
   ],
   "source": [
    "imputed_df.shape"
   ]
  },
  {
   "cell_type": "code",
   "execution_count": 146,
   "metadata": {},
   "outputs": [],
   "source": [
    "# Remove the first ten seconds and the last ten seconds\n",
    "# to ensure steady state data\n",
    "\n",
    "indexNames = imputed_df[(imputed_df['timestamp'] <= imputed_df['timestamp'].min()+10) | (imputed_df['timestamp'] >= imputed_df['timestamp'].max()-10) ].index\n",
    "\n",
    "# Remove the values\n",
    "imputed_df.drop(indexNames , inplace=True)"
   ]
  },
  {
   "cell_type": "code",
   "execution_count": 154,
   "metadata": {},
   "outputs": [
    {
     "ename": "ValueError",
     "evalue": "No axis named 1 for object type <class 'pandas.core.series.Series'>",
     "output_type": "error",
     "traceback": [
      "\u001b[0;31m---------------------------------------------------------------------------\u001b[0m",
      "\u001b[0;31mValueError\u001b[0m                                Traceback (most recent call last)",
      "\u001b[0;32m<ipython-input-154-2c150ea84910>\u001b[0m in \u001b[0;36m<module>\u001b[0;34m\u001b[0m\n\u001b[1;32m      2\u001b[0m \u001b[0;34m\u001b[0m\u001b[0m\n\u001b[1;32m      3\u001b[0m \u001b[0;32mfor\u001b[0m \u001b[0;34m(\u001b[0m\u001b[0mcolumnName\u001b[0m\u001b[0;34m)\u001b[0m \u001b[0;32min\u001b[0m \u001b[0mcols\u001b[0m\u001b[0;34m:\u001b[0m\u001b[0;34m\u001b[0m\u001b[0;34m\u001b[0m\u001b[0m\n\u001b[0;32m----> 4\u001b[0;31m     \u001b[0mdf\u001b[0m\u001b[0;34m[\u001b[0m\u001b[0mcolumnName\u001b[0m \u001b[0;34m+\u001b[0m \u001b[0;34m'_mean'\u001b[0m\u001b[0;34m]\u001b[0m \u001b[0;34m=\u001b[0m \u001b[0mdf\u001b[0m\u001b[0;34m[\u001b[0m\u001b[0mcolumnName\u001b[0m\u001b[0;34m]\u001b[0m\u001b[0;34m.\u001b[0m\u001b[0mmean\u001b[0m\u001b[0;34m(\u001b[0m\u001b[0maxis\u001b[0m\u001b[0;34m=\u001b[0m\u001b[0;36m1\u001b[0m\u001b[0;34m)\u001b[0m\u001b[0;34m\u001b[0m\u001b[0;34m\u001b[0m\u001b[0m\n\u001b[0m\u001b[1;32m      5\u001b[0m     \u001b[0mdf\u001b[0m\u001b[0;34m[\u001b[0m\u001b[0mcolumnName\u001b[0m \u001b[0;34m+\u001b[0m \u001b[0;34m'_var'\u001b[0m\u001b[0;34m]\u001b[0m \u001b[0;34m=\u001b[0m \u001b[0mdf\u001b[0m\u001b[0;34m[\u001b[0m\u001b[0mcolumnName\u001b[0m\u001b[0;34m]\u001b[0m\u001b[0;34m.\u001b[0m\u001b[0mvar\u001b[0m\u001b[0;34m(\u001b[0m\u001b[0maxis\u001b[0m\u001b[0;34m=\u001b[0m\u001b[0;36m1\u001b[0m\u001b[0;34m)\u001b[0m\u001b[0;34m\u001b[0m\u001b[0;34m\u001b[0m\u001b[0m\n\u001b[1;32m      6\u001b[0m     \u001b[0mdf\u001b[0m\u001b[0;34m[\u001b[0m\u001b[0mcolumnName\u001b[0m \u001b[0;34m+\u001b[0m \u001b[0;34m'_std'\u001b[0m\u001b[0;34m]\u001b[0m \u001b[0;34m=\u001b[0m \u001b[0mdf\u001b[0m\u001b[0;34m[\u001b[0m\u001b[0mcolumnName\u001b[0m\u001b[0;34m]\u001b[0m\u001b[0;34m.\u001b[0m\u001b[0mstd\u001b[0m\u001b[0;34m(\u001b[0m\u001b[0maxis\u001b[0m\u001b[0;34m=\u001b[0m\u001b[0;36m1\u001b[0m\u001b[0;34m)\u001b[0m\u001b[0;34m\u001b[0m\u001b[0;34m\u001b[0m\u001b[0m\n",
      "\u001b[0;32m~/anaconda3/lib/python3.8/site-packages/pandas/core/generic.py\u001b[0m in \u001b[0;36mstat_func\u001b[0;34m(self, axis, skipna, level, numeric_only, **kwargs)\u001b[0m\n\u001b[1;32m  11212\u001b[0m         \u001b[0;32mif\u001b[0m \u001b[0mlevel\u001b[0m \u001b[0;32mis\u001b[0m \u001b[0;32mnot\u001b[0m \u001b[0;32mNone\u001b[0m\u001b[0;34m:\u001b[0m\u001b[0;34m\u001b[0m\u001b[0;34m\u001b[0m\u001b[0m\n\u001b[1;32m  11213\u001b[0m             \u001b[0;32mreturn\u001b[0m \u001b[0mself\u001b[0m\u001b[0;34m.\u001b[0m\u001b[0m_agg_by_level\u001b[0m\u001b[0;34m(\u001b[0m\u001b[0mname\u001b[0m\u001b[0;34m,\u001b[0m \u001b[0maxis\u001b[0m\u001b[0;34m=\u001b[0m\u001b[0maxis\u001b[0m\u001b[0;34m,\u001b[0m \u001b[0mlevel\u001b[0m\u001b[0;34m=\u001b[0m\u001b[0mlevel\u001b[0m\u001b[0;34m,\u001b[0m \u001b[0mskipna\u001b[0m\u001b[0;34m=\u001b[0m\u001b[0mskipna\u001b[0m\u001b[0;34m)\u001b[0m\u001b[0;34m\u001b[0m\u001b[0;34m\u001b[0m\u001b[0m\n\u001b[0;32m> 11214\u001b[0;31m         return self._reduce(\n\u001b[0m\u001b[1;32m  11215\u001b[0m             \u001b[0mf\u001b[0m\u001b[0;34m,\u001b[0m \u001b[0mname\u001b[0m\u001b[0;34m,\u001b[0m \u001b[0maxis\u001b[0m\u001b[0;34m=\u001b[0m\u001b[0maxis\u001b[0m\u001b[0;34m,\u001b[0m \u001b[0mskipna\u001b[0m\u001b[0;34m=\u001b[0m\u001b[0mskipna\u001b[0m\u001b[0;34m,\u001b[0m \u001b[0mnumeric_only\u001b[0m\u001b[0;34m=\u001b[0m\u001b[0mnumeric_only\u001b[0m\u001b[0;34m\u001b[0m\u001b[0;34m\u001b[0m\u001b[0m\n\u001b[1;32m  11216\u001b[0m         )\n",
      "\u001b[0;32m~/anaconda3/lib/python3.8/site-packages/pandas/core/series.py\u001b[0m in \u001b[0;36m_reduce\u001b[0;34m(self, op, name, axis, skipna, numeric_only, filter_type, **kwds)\u001b[0m\n\u001b[1;32m   3867\u001b[0m \u001b[0;34m\u001b[0m\u001b[0m\n\u001b[1;32m   3868\u001b[0m         \u001b[0;32mif\u001b[0m \u001b[0maxis\u001b[0m \u001b[0;32mis\u001b[0m \u001b[0;32mnot\u001b[0m \u001b[0;32mNone\u001b[0m\u001b[0;34m:\u001b[0m\u001b[0;34m\u001b[0m\u001b[0;34m\u001b[0m\u001b[0m\n\u001b[0;32m-> 3869\u001b[0;31m             \u001b[0mself\u001b[0m\u001b[0;34m.\u001b[0m\u001b[0m_get_axis_number\u001b[0m\u001b[0;34m(\u001b[0m\u001b[0maxis\u001b[0m\u001b[0;34m)\u001b[0m\u001b[0;34m\u001b[0m\u001b[0;34m\u001b[0m\u001b[0m\n\u001b[0m\u001b[1;32m   3870\u001b[0m \u001b[0;34m\u001b[0m\u001b[0m\n\u001b[1;32m   3871\u001b[0m         \u001b[0;32mif\u001b[0m \u001b[0misinstance\u001b[0m\u001b[0;34m(\u001b[0m\u001b[0mdelegate\u001b[0m\u001b[0;34m,\u001b[0m \u001b[0mCategorical\u001b[0m\u001b[0;34m)\u001b[0m\u001b[0;34m:\u001b[0m\u001b[0;34m\u001b[0m\u001b[0;34m\u001b[0m\u001b[0m\n",
      "\u001b[0;32m~/anaconda3/lib/python3.8/site-packages/pandas/core/generic.py\u001b[0m in \u001b[0;36m_get_axis_number\u001b[0;34m(cls, axis)\u001b[0m\n\u001b[1;32m    405\u001b[0m             \u001b[0;32mexcept\u001b[0m \u001b[0mKeyError\u001b[0m\u001b[0;34m:\u001b[0m\u001b[0;34m\u001b[0m\u001b[0;34m\u001b[0m\u001b[0m\n\u001b[1;32m    406\u001b[0m                 \u001b[0;32mpass\u001b[0m\u001b[0;34m\u001b[0m\u001b[0;34m\u001b[0m\u001b[0m\n\u001b[0;32m--> 407\u001b[0;31m         \u001b[0;32mraise\u001b[0m \u001b[0mValueError\u001b[0m\u001b[0;34m(\u001b[0m\u001b[0;34mf\"No axis named {axis} for object type {cls}\"\u001b[0m\u001b[0;34m)\u001b[0m\u001b[0;34m\u001b[0m\u001b[0;34m\u001b[0m\u001b[0m\n\u001b[0m\u001b[1;32m    408\u001b[0m \u001b[0;34m\u001b[0m\u001b[0m\n\u001b[1;32m    409\u001b[0m     \u001b[0;34m@\u001b[0m\u001b[0mclassmethod\u001b[0m\u001b[0;34m\u001b[0m\u001b[0;34m\u001b[0m\u001b[0m\n",
      "\u001b[0;31mValueError\u001b[0m: No axis named 1 for object type <class 'pandas.core.series.Series'>"
     ]
    }
   ],
   "source": [
    "cols = ['w2', 'w3', 'w4']\n",
    "\n",
    "# Calculate the values for each 10-second sliding window\n",
    "x = range(int(df['timestamp'].min()), int(df['timestamp'].max()), 10)\n",
    "\n",
    "for i in x:\n",
    "    \n",
    "    for (columnName) in cols: \n",
    "        df[columnName + '_mean'] = df[columnName].mean()\n",
    "        df[columnName + '_var'] = df[columnName].var()\n",
    "        df[columnName + '_std'] = df[columnName].std()\n",
    "        df[columnName + '_skew'] = df[columnName].skew()\n",
    "        df[columnName + '_kurt'] = df[columnName].kurt()\n",
    "        df[columnName + '_med'] = df[columnName].median()\n",
    "        for i, j in itertools.product(range(2, imputed_df.corr()['timestamp'].count()), range(2, imputed_df.corr()['w2'].count())):\n",
    "            df[columnName +'corr'] = imputed_df.corr().iloc[i,j]"
   ]
  },
  {
   "cell_type": "code",
   "execution_count": 152,
   "metadata": {},
   "outputs": [
    {
     "data": {
      "text/plain": [
       "Index(['timestamp', 'activityID', 'w2', 'w3', 'w4', 'w2_mean', 'w2_var',\n",
       "       'w2_std', 'w2_skew', 'w2_kurt', 'w2_med', 'w3_mean', 'w3_var', 'w3_std',\n",
       "       'w3_skew', 'w3_kurt', 'w3_med', 'w4_mean', 'w4_var', 'w4_std',\n",
       "       'w4_skew', 'w4_kurt', 'w4_med', 'w4corr', 'w2corr', 'w3corr'],\n",
       "      dtype='object')"
      ]
     },
     "execution_count": 152,
     "metadata": {},
     "output_type": "execute_result"
    }
   ],
   "source": [
    "df.columns"
   ]
  },
  {
   "cell_type": "code",
   "execution_count": 153,
   "metadata": {},
   "outputs": [
    {
     "data": {
      "text/html": [
       "<div>\n",
       "<style scoped>\n",
       "    .dataframe tbody tr th:only-of-type {\n",
       "        vertical-align: middle;\n",
       "    }\n",
       "\n",
       "    .dataframe tbody tr th {\n",
       "        vertical-align: top;\n",
       "    }\n",
       "\n",
       "    .dataframe thead th {\n",
       "        text-align: right;\n",
       "    }\n",
       "</style>\n",
       "<table border=\"1\" class=\"dataframe\">\n",
       "  <thead>\n",
       "    <tr style=\"text-align: right;\">\n",
       "      <th></th>\n",
       "      <th>timestamp</th>\n",
       "      <th>activityID</th>\n",
       "      <th>w2</th>\n",
       "      <th>w3</th>\n",
       "      <th>w4</th>\n",
       "      <th>w2_mean</th>\n",
       "      <th>w2_var</th>\n",
       "      <th>w2_std</th>\n",
       "      <th>w2_skew</th>\n",
       "      <th>w2_kurt</th>\n",
       "      <th>...</th>\n",
       "      <th>w3_med</th>\n",
       "      <th>w4_mean</th>\n",
       "      <th>w4_var</th>\n",
       "      <th>w4_std</th>\n",
       "      <th>w4_skew</th>\n",
       "      <th>w4_kurt</th>\n",
       "      <th>w4_med</th>\n",
       "      <th>w4corr</th>\n",
       "      <th>w2corr</th>\n",
       "      <th>w3corr</th>\n",
       "    </tr>\n",
       "  </thead>\n",
       "  <tbody>\n",
       "    <tr>\n",
       "      <th>2928</th>\n",
       "      <td>37.66</td>\n",
       "      <td>1</td>\n",
       "      <td>2.21530</td>\n",
       "      <td>8.27915</td>\n",
       "      <td>5.58753</td>\n",
       "      <td>-4.938311</td>\n",
       "      <td>38.827134</td>\n",
       "      <td>6.231142</td>\n",
       "      <td>-0.488496</td>\n",
       "      <td>5.220044</td>\n",
       "      <td>...</td>\n",
       "      <td>3.523155</td>\n",
       "      <td>3.609347</td>\n",
       "      <td>15.682992</td>\n",
       "      <td>3.960176</td>\n",
       "      <td>-0.702628</td>\n",
       "      <td>10.355232</td>\n",
       "      <td>3.44133</td>\n",
       "      <td>1.0</td>\n",
       "      <td>1.0</td>\n",
       "      <td>1.0</td>\n",
       "    </tr>\n",
       "    <tr>\n",
       "      <th>2929</th>\n",
       "      <td>37.67</td>\n",
       "      <td>1</td>\n",
       "      <td>2.29196</td>\n",
       "      <td>7.67288</td>\n",
       "      <td>5.74467</td>\n",
       "      <td>-4.938311</td>\n",
       "      <td>38.827134</td>\n",
       "      <td>6.231142</td>\n",
       "      <td>-0.488496</td>\n",
       "      <td>5.220044</td>\n",
       "      <td>...</td>\n",
       "      <td>3.523155</td>\n",
       "      <td>3.609347</td>\n",
       "      <td>15.682992</td>\n",
       "      <td>3.960176</td>\n",
       "      <td>-0.702628</td>\n",
       "      <td>10.355232</td>\n",
       "      <td>3.44133</td>\n",
       "      <td>1.0</td>\n",
       "      <td>1.0</td>\n",
       "      <td>1.0</td>\n",
       "    </tr>\n",
       "    <tr>\n",
       "      <th>2930</th>\n",
       "      <td>37.68</td>\n",
       "      <td>1</td>\n",
       "      <td>2.29090</td>\n",
       "      <td>7.14240</td>\n",
       "      <td>5.82342</td>\n",
       "      <td>-4.938311</td>\n",
       "      <td>38.827134</td>\n",
       "      <td>6.231142</td>\n",
       "      <td>-0.488496</td>\n",
       "      <td>5.220044</td>\n",
       "      <td>...</td>\n",
       "      <td>3.523155</td>\n",
       "      <td>3.609347</td>\n",
       "      <td>15.682992</td>\n",
       "      <td>3.960176</td>\n",
       "      <td>-0.702628</td>\n",
       "      <td>10.355232</td>\n",
       "      <td>3.44133</td>\n",
       "      <td>1.0</td>\n",
       "      <td>1.0</td>\n",
       "      <td>1.0</td>\n",
       "    </tr>\n",
       "    <tr>\n",
       "      <th>2931</th>\n",
       "      <td>37.69</td>\n",
       "      <td>1</td>\n",
       "      <td>2.21800</td>\n",
       "      <td>7.14365</td>\n",
       "      <td>5.89930</td>\n",
       "      <td>-4.938311</td>\n",
       "      <td>38.827134</td>\n",
       "      <td>6.231142</td>\n",
       "      <td>-0.488496</td>\n",
       "      <td>5.220044</td>\n",
       "      <td>...</td>\n",
       "      <td>3.523155</td>\n",
       "      <td>3.609347</td>\n",
       "      <td>15.682992</td>\n",
       "      <td>3.960176</td>\n",
       "      <td>-0.702628</td>\n",
       "      <td>10.355232</td>\n",
       "      <td>3.44133</td>\n",
       "      <td>1.0</td>\n",
       "      <td>1.0</td>\n",
       "      <td>1.0</td>\n",
       "    </tr>\n",
       "    <tr>\n",
       "      <th>2932</th>\n",
       "      <td>37.70</td>\n",
       "      <td>1</td>\n",
       "      <td>2.30106</td>\n",
       "      <td>7.25857</td>\n",
       "      <td>6.09259</td>\n",
       "      <td>-4.938311</td>\n",
       "      <td>38.827134</td>\n",
       "      <td>6.231142</td>\n",
       "      <td>-0.488496</td>\n",
       "      <td>5.220044</td>\n",
       "      <td>...</td>\n",
       "      <td>3.523155</td>\n",
       "      <td>3.609347</td>\n",
       "      <td>15.682992</td>\n",
       "      <td>3.960176</td>\n",
       "      <td>-0.702628</td>\n",
       "      <td>10.355232</td>\n",
       "      <td>3.44133</td>\n",
       "      <td>1.0</td>\n",
       "      <td>1.0</td>\n",
       "      <td>1.0</td>\n",
       "    </tr>\n",
       "  </tbody>\n",
       "</table>\n",
       "<p>5 rows × 26 columns</p>\n",
       "</div>"
      ],
      "text/plain": [
       "      timestamp  activityID       w2       w3       w4   w2_mean     w2_var  \\\n",
       "2928      37.66           1  2.21530  8.27915  5.58753 -4.938311  38.827134   \n",
       "2929      37.67           1  2.29196  7.67288  5.74467 -4.938311  38.827134   \n",
       "2930      37.68           1  2.29090  7.14240  5.82342 -4.938311  38.827134   \n",
       "2931      37.69           1  2.21800  7.14365  5.89930 -4.938311  38.827134   \n",
       "2932      37.70           1  2.30106  7.25857  6.09259 -4.938311  38.827134   \n",
       "\n",
       "        w2_std   w2_skew   w2_kurt  ...    w3_med   w4_mean     w4_var  \\\n",
       "2928  6.231142 -0.488496  5.220044  ...  3.523155  3.609347  15.682992   \n",
       "2929  6.231142 -0.488496  5.220044  ...  3.523155  3.609347  15.682992   \n",
       "2930  6.231142 -0.488496  5.220044  ...  3.523155  3.609347  15.682992   \n",
       "2931  6.231142 -0.488496  5.220044  ...  3.523155  3.609347  15.682992   \n",
       "2932  6.231142 -0.488496  5.220044  ...  3.523155  3.609347  15.682992   \n",
       "\n",
       "        w4_std   w4_skew    w4_kurt   w4_med  w4corr  w2corr  w3corr  \n",
       "2928  3.960176 -0.702628  10.355232  3.44133     1.0     1.0     1.0  \n",
       "2929  3.960176 -0.702628  10.355232  3.44133     1.0     1.0     1.0  \n",
       "2930  3.960176 -0.702628  10.355232  3.44133     1.0     1.0     1.0  \n",
       "2931  3.960176 -0.702628  10.355232  3.44133     1.0     1.0     1.0  \n",
       "2932  3.960176 -0.702628  10.355232  3.44133     1.0     1.0     1.0  \n",
       "\n",
       "[5 rows x 26 columns]"
      ]
     },
     "execution_count": 153,
     "metadata": {},
     "output_type": "execute_result"
    }
   ],
   "source": [
    "df.head()"
   ]
  },
  {
   "cell_type": "code",
   "execution_count": 136,
   "metadata": {},
   "outputs": [
    {
     "name": "stdout",
     "output_type": "stream",
     "text": [
      "1.0\n",
      "-0.08583265565892616\n",
      "0.26044837847964475\n",
      "-0.08583265565892616\n",
      "1.0\n",
      "-0.06567312567627345\n",
      "0.26044837847964475\n",
      "-0.06567312567627345\n",
      "1.0\n"
     ]
    }
   ],
   "source": [
    "for i, j in itertools.product(range(2, imputed_df.corr()['timestamp'].count()), range(2, imputed_df.corr()['w2'].count())):\n",
    "    print(imputed_df.corr().iloc[i,j])"
   ]
  },
  {
   "cell_type": "code",
   "execution_count": 73,
   "metadata": {},
   "outputs": [
    {
     "name": "stdout",
     "output_type": "stream",
     "text": [
      "[]\n"
     ]
    },
    {
     "data": {
      "image/png": "[encoded data removed]",
      "text/plain": [
       "<Figure size 432x288 with 1 Axes>"
      ]
     },
     "metadata": {
      "needs_background": "light"
     },
     "output_type": "display_data"
    }
   ],
   "source": [
    "def cross(series, cross=0, direction='cross'):\n",
    "    \"\"\"\n",
    "    Given a Series returns all the index values where the data values equal \n",
    "    the 'cross' value. \n",
    "\n",
    "    Direction can be 'rising' (for rising edge), 'falling' (for only falling \n",
    "    edge), or 'cross' for both edges\n",
    "    \"\"\"\n",
    "    # Find if values are above or bellow yvalue crossing:\n",
    "    above=series.values > cross\n",
    "    below=np.logical_not(above)\n",
    "    left_shifted_above = above[1:]\n",
    "    left_shifted_below = below[1:]\n",
    "    x_crossings = []\n",
    "    # Find indexes on left side of crossing point\n",
    "    if direction == 'rising':\n",
    "        idxs = (left_shifted_above & below[0:-1]).nonzero()[0]\n",
    "    elif direction == 'falling':\n",
    "        idxs = (left_shifted_below & above[0:-1]).nonzero()[0]\n",
    "    else:\n",
    "        rising = left_shifted_above & below[0:-1]\n",
    "        falling = left_shifted_below & above[0:-1]\n",
    "        idxs = (rising | falling).nonzero()[0]\n",
    "\n",
    "    # Calculate x crossings with interpolation using formula for a line:\n",
    "    x1 = series.index.values[idxs]\n",
    "    x2 = series.index.values[idxs+1]\n",
    "    y1 = series.values[idxs]\n",
    "    y2 = series.values[idxs+1]\n",
    "    x_crossings = (cross-y1)*(x2-x1)/(y2-y1) + x1\n",
    "\n",
    "    return x_crossings\n",
    "\n",
    "# Test it out:\n",
    "time = imputed_df['timestamp']\n",
    "voltage = imputed_df['w2']\n",
    "df = pd.DataFrame(data=voltage, index=time, columns=['voltage'])\n",
    "x_crossings = cross(df['voltage'])\n",
    "y_crossings = np.zeros(x_crossings.shape)\n",
    "plt.plot(time, voltage, '-ob', x_crossings, y_crossings, 'or')\n",
    "plt.grid(True)\n"
   ]
  },
  {
   "cell_type": "code",
   "execution_count": null,
   "metadata": {},
   "outputs": [],
   "source": []
  }
 ],
 "metadata": {
  "kernelspec": {
   "display_name": "Python 3",
   "language": "python",
   "name": "python3"
  },
  "language_info": {
   "codemirror_mode": {
    "name": "ipython",
    "version": 3
   },
   "file_extension": ".py",
   "mimetype": "text/x-python",
   "name": "python",
   "nbconvert_exporter": "python",
   "pygments_lexer": "ipython3",
   "version": "3.8.3"
  }
 },
 "nbformat": 4,
 "nbformat_minor": 4
}
