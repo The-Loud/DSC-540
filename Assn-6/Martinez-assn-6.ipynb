{
 "cells": [
  {
   "cell_type": "markdown",
   "metadata": {},
   "source": [
    "# Martinez Assignment 6\n",
    "\n",
    "## Fuzzy Inference Methods\n"
   ]
  },
  {
   "cell_type": "markdown",
   "metadata": {},
   "source": [
    "### Task 1. Consider the following fuzzy model of a system with inputs x and y and output z:\n",
    "\n",
    " - NOTE: This is attached as a separate PDF."
   ]
  },
  {
   "cell_type": "markdown",
   "metadata": {},
   "source": [
    "###     a. Explain in a short paragraph (10-15 sentences) the application/use of the Takagi-Sugeno fuzzy model in the article. b . Explain in a short paragraph (10-15 sentences) the application/use of ANFIS."
   ]
  },
  {
   "cell_type": "markdown",
   "metadata": {},
   "source": [
    "Cococcioni et al build a standard ANFIS but have altered the input space in order to handle particular T-S rules that may not make sense or could negatively impact the output. They do so by adding in an additional fuzzy set that handles these \"don't care\" scenarios (Cococcioni, 2008). However, since this condition grows with each added input, they introduce an additional generealization into their ANFIS model. This generalization is the development of an ANFIS with M number of rules smaller than or equal to a maximum value that is predefined (Cococcioni, 2008). These conditions allow for a sparsely connected ANFIS. In order to train the ANFIS, they employ a gradient descent method for antecedent parameters and recursive OLS for the consequent ones. This is repeated over serveral epochs (full cycles) in order to achieve convergence.\n",
    "\n",
    "The authors leverage a (2+2)M-PAES Pareto model to develop different types of TS-type FRBSs. By using a mutation operator they are able to develop TS FRBSs that use varying input variables. Several results of varying complexity and accuracy are then compared. As noted by Cococcioni regarding the use of different combinations of variables, \n",
    "\n",
    " - This highlights that there does not exist a unique struc-ture which can be extracted from the data distribution,as several approaches to TS system generation suggest,but rather several possible structures which allow ob-taining different desired accuracies with different com-plexities.\n",
    "\n",
    "It is particuarly interesting that after training, the input fuzzy sets maintained readability. It was easy to distinuish which membership function was which."
   ]
  },
  {
   "cell_type": "markdown",
   "metadata": {},
   "source": [
    "## Part 2 - Fuzzy models"
   ]
  },
  {
   "cell_type": "markdown",
   "metadata": {},
   "source": [
    "Consider a two-dimensional sinc equation defined by:\n",
    "\n",
    "\n",
    "Training data are sampled uniformly from the input range [–10, 10] × [–10, 10]. With two\n",
    "symmetric triangular membership functions assigned to each input variable, construct a\n",
    "Takagi-Sugeno fuzzy model (linear static mappings) for the sinc function. Provide defining\n",
    "equations for determination of the premise and consequent parameters of the model"
   ]
  },
  {
   "cell_type": "markdown",
   "metadata": {},
   "source": [
    "The TS fuzzy method outputs a function rather than a fuzzy set (Mamdani method) and in order to build the graph, we'd capture a weighted average of the outputs. This would give us the final answer given a set of scalar inputs. This weighting function is defined as:\n",
    "\n",
    "\\\\[ \\frac{\\sum_{i=1}^{N}w_iy_i}{\\sum_{i=1}^{N}w_i} \\\\]\n",
    "(MathWorks, n.d.)\n",
    "\n",
    "This particular method contrasts with the Mamdani method in the way it handles output. Because continuous integration across a 2D graph is computationally inefficient (Hamarsheh, n.d.), it was suggested that a singleton method be provided instead. This allows for a crisp output and no need for a defuzzification method(Tutorialspoint, n.d.).\n",
    "\n",
    "The rule-base is still defined as \n",
    "\n",
    " - If ANTECEDENT then CONSEQUENT\n",
    " \n",
    "but instead of a fuzzy set output, we get \\\\(f(x,y)\\\\) instead. After all of the rules are processed, they are passed through the weighted average function for the answer (Research hubs, 2015).\n",
    "\n",
    "The particular example below only has a single output function, a two-input sinc function.\n",
    "\n",
    "Sinc is defined as \n",
    "\n",
    "\\\\[ y = sinc(x1, x2) = \\frac{\\sin(x_1) \\sin(x_2)}{x_1 x_2} \\\\]\n",
    "\n",
    "Which is part of signal processing and information theory (Wikipedia, 2020)."
   ]
  },
  {
   "cell_type": "code",
   "execution_count": 112,
   "metadata": {},
   "outputs": [],
   "source": [
    "# Import some libraries to make the magic happen\n",
    "\n",
    "from mpl_toolkits import mplot3d\n",
    "import numpy as np\n",
    "import matplotlib.pyplot as plt\n",
    "from math import sin\n",
    "import skfuzzy as fuzz\n",
    "from skfuzzy import control as ctrl\n",
    "%matplotlib inline"
   ]
  },
  {
   "cell_type": "code",
   "execution_count": 34,
   "metadata": {},
   "outputs": [],
   "source": [
    "# define the output function\n",
    "def sinc(x, y):\n",
    "    '''\n",
    "    Takes in two numbers and returns the sinc function output of them.\n",
    "    This will be used as the output function (z).\n",
    "    TODO: Probably convert this to np.sinc instead to handle arrays\n",
    "    '''\n",
    "    return (sin(x) * sin(y))/(x * y)"
   ]
  },
  {
   "cell_type": "code",
   "execution_count": 108,
   "metadata": {},
   "outputs": [],
   "source": [
    "# Define the weighted sum function\n",
    "def w_sum(x, y, mf_x, mf_y):\n",
    "    '''\n",
    "    The weighted sum is the degree of membership multiplied by the universe\n",
    "    divided by the sum of the membership functions.\n",
    "    TODO: allow for an arbitrary number of inputs in order to \n",
    "    evaluate more rules.\n",
    "    '''\n",
    "    return ((x * mf_x) + (y * mf_y)) / (mf_x + mf_y)"
   ]
  },
  {
   "cell_type": "code",
   "execution_count": 109,
   "metadata": {},
   "outputs": [],
   "source": [
    "# Assign our input variables\n",
    "X = Y = np.arange(-10, 10, 1)\n",
    "\n",
    "# We can't divide by zero so these values are no good\n",
    "X = X[X != 0]\n",
    "Y = Y[Y != 0]"
   ]
  },
  {
   "cell_type": "code",
   "execution_count": 60,
   "metadata": {},
   "outputs": [],
   "source": [
    "# rules will be like:\n",
    "# If x is 1 AND y is 3 then sinc(x,y)\n",
    "\n",
    "output = []\n",
    "# testing the first values\n",
    "for i in X:\n",
    "    for j in Y:\n",
    "        output.append(sinc(i,j))"
   ]
  },
  {
   "cell_type": "code",
   "execution_count": 113,
   "metadata": {},
   "outputs": [],
   "source": [
    "# Generate our antecedent clauses which comprise\n",
    "# all the values in the universe\n",
    "\n",
    "X1 = ctrl.Antecedent(np.arange(-10, 11, 1), 'x1')\n",
    "X2 = ctrl.Antecedent(np.arange(-10, 11, 1), 'x2')"
   ]
  },
  {
   "cell_type": "code",
   "execution_count": 114,
   "metadata": {},
   "outputs": [],
   "source": [
    "# Generate triangular membership functions using\n",
    "# the automf method from scikit-fuzzy\n",
    "\n",
    "X1.automf(3)\n",
    "X2.automf(3)"
   ]
  },
  {
   "cell_type": "code",
   "execution_count": 115,
   "metadata": {},
   "outputs": [
    {
     "data": {
      "image/png": "[encoded data removed]",
      "text/plain": [
       "<Figure size 432x288 with 1 Axes>"
      ]
     },
     "metadata": {
      "needs_background": "light"
     },
     "output_type": "display_data"
    }
   ],
   "source": [
    "# view our membership function. They are the same so only display one\n",
    "X1.view()"
   ]
  },
  {
   "cell_type": "markdown",
   "metadata": {},
   "source": [
    "## Rule-base\n",
    "\n",
    "There is only one provided output function, which is the sinc function, defined above. Therefore, each output will use the same function, but because the inputs will be different, the spikes in the final output will change.\n",
    "\n",
    "If \\\\(X_1\\\\) is 'low' and \\\\(X_2\\\\) is 'average' then \\\\(y = sinc(x_1, x_2)\\\\)\n",
    "\n",
    "If \\\\(X_1\\\\) is 'low' and \\\\(X_2\\\\) is 'high' then \\\\(y = sinc(x_1, x_2)\\\\)\n",
    "\n",
    "In order to evaluate this, we will take two examples from the input universes. \n",
    "\\\\[X_1 = -1, X_2 = 5\\\\]\n",
    "\n",
    "\\\\[X_1 = -7, X_2 = 2\\\\]"
   ]
  },
  {
   "cell_type": "code",
   "execution_count": 103,
   "metadata": {},
   "outputs": [],
   "source": [
    "# Use our sinc function with each output and verify it against the membership function\n",
    "# I wasn't able to figure this out programatically, so the MF outputs are hard-coded.\n",
    "\n",
    "# First example\n",
    "# If x1 is 'low' AND x2 is 'average'\n",
    "x1, x2 = -1, 5\n",
    "mf_1, mf_2 = 0.1, 0.5\n",
    "mf_first = min(mf_1, mf_2)\n",
    "y_first = sinc(x1, x2)\n",
    "\n",
    "# If x1 is 'low' and x2 is 'high'\n",
    "x1, x2 = -7, 2\n",
    "mf_second =  min(0.3, 0.1)\n",
    "y_second = sinc(x1, x2)"
   ]
  },
  {
   "cell_type": "code",
   "execution_count": 101,
   "metadata": {},
   "outputs": [],
   "source": [
    "# run the weighted sum function defined earlier\n",
    "\n",
    "w = w_sum(y_first, y_second, mf_first, mf_second)"
   ]
  },
  {
   "cell_type": "code",
   "execution_count": 106,
   "metadata": {},
   "outputs": [
    {
     "name": "stdout",
     "output_type": "stream",
     "text": [
      " Weighted average of the two example functions: -0.05935511595877204\n"
     ]
    }
   ],
   "source": [
    "# and here we arrive at the weighted average of the two functions and giving us the output\n",
    "print(f' Weighted average of the two example functions: {w}')"
   ]
  },
  {
   "cell_type": "markdown",
   "metadata": {},
   "source": [
    "## Problem 2\n",
    "\n",
    "To identify the nonlinear system\n",
    "\n",
    "\\\\[y = (1 + x_1)^{0.5} + (x_2)^{-1} + (x_3)^{-1.5})^2\\\\]\n",
    "\n",
    "Assign two membership functions to each input variable. Training and testing data are\n",
    "sampled uniformly from the input ranges:\n",
    "\n",
    "Training data: [1, 6] × [1, 6] × [1, 6]\n",
    "Testing data: [1.5, 5.5] × [1.5, 5.5] × [1.5, 5.5]\n",
    "\n",
    "Extract Takagi-Sugeno fuzzy rules from the numerical input-output training data that could be employed in an ANFIS model.\n",
    "\n",
    "List and explain all the rules."
   ]
  },
  {
   "cell_type": "markdown",
   "metadata": {},
   "source": [
    "According to Gopal (2020), there are \\\\(K_1 \\times K_2 \\times ... \\times K_n \\\\) rules, where K is the fuzzy input partition space.\n",
    "\n",
    "For linear static mappings, R linear functions provides R fuzzy rules, corresponding to all combinations of all inputs.\n",
    "\n",
    "Since we have three input variables, the entire ruleset will be \\\\(2 \\times 3 \\\\) or or 6 total rules: three inputs, two MF's per input."
   ]
  },
  {
   "cell_type": "code",
   "execution_count": 164,
   "metadata": {},
   "outputs": [
    {
     "name": "stdout",
     "output_type": "stream",
     "text": [
      "1.0\n"
     ]
    }
   ],
   "source": [
    "# Membership functions. Triangular is used but any parameterized function\n",
    "# would be sufficient. Gaussian is another example\n",
    "a = 1\n",
    "b = 3\n",
    "c = 6\n",
    "d = 4\n",
    "\n",
    "X1 = np.arange(0, 7, 1)\n",
    "mf_1 = fuzz.membership.smf(X1, a,b)\n",
    "mf_2 = fuzz.membership.zmf(X1, b, c)\n",
    "\n",
    "# an example of the membership\n",
    "print(fuzz.interp_membership(X1, mf_1, 3.5))"
   ]
  },
  {
   "cell_type": "code",
   "execution_count": 165,
   "metadata": {},
   "outputs": [
    {
     "name": "stderr",
     "output_type": "stream",
     "text": [
      "/home/smartinez/.local/lib/python3.7/site-packages/skfuzzy/control/fuzzyvariable.py:122: UserWarning: Matplotlib is currently using module://ipykernel.pylab.backend_inline, which is a non-GUI backend, so cannot show the figure.\n",
      "  fig.show()\n"
     ]
    },
    {
     "data": {
      "image/png": "[encoded data removed]",
      "text/plain": [
       "<Figure size 432x288 with 1 Axes>"
      ]
     },
     "metadata": {
      "needs_background": "light"
     },
     "output_type": "display_data"
    }
   ],
   "source": [
    "# Using the s-function and z-function to build the membership fuzzy sets.\n",
    "# each value would use both of these.\n",
    "\n",
    "mems = ctrl.Consequent(np.arange(0, 7, 1), 'mems')\n",
    "\n",
    "mems['A1'] = fuzz.smf(mems.universe, 0, 7)\n",
    "mems['A2'] = fuzz.zmf(mems.universe, 0, 7)\n",
    "\n",
    "mems.view()"
   ]
  },
  {
   "cell_type": "markdown",
   "metadata": {},
   "source": [
    "Each Rule will be some combination of the inputs.\n",
    "Since each combination must be tried, the following would be the rules for the ANFIS:\n",
    "\n",
    " - If <x1 is A1 AND x2 is A1 AND x3 is A1 THEN \\\\(y = (1 + x_1)^{0.5} + (x_2)^{-1} + (x_3)^{-1.5})^2\\\\)\n",
    " - If <x1 is A1 AND x2 is A2 AND x3 is A1 THEN \\\\(y = (1 + x_1)^{0.5} + (x_2)^{-1} + (x_3)^{-1.5})^2\\\\)\n",
    " \n",
    " - If <x1 is A1 AND x2 is A2 AND x3 is A2 THEN \\\\(y = (1 + x_1)^{0.5} + (x_2)^{-1} + (x_3)^{-1.5})^2\\\\)\n",
    " - If <x1 is A2 AND x2 is A1 AND x3 is A1 THEN \\\\(y = (1 + x_1)^{0.5} + (x_2)^{-1} + (x_3)^{-1.5})^2\\\\)\n",
    " \n",
    " - If <x1 is A2 AND x2 is A1 AND x3 is A2 THEN \\\\(y = (1 + x_1)^{0.5} + (x_2)^{-1} + (x_3)^{-1.5})^2\\\\)\n",
    " - If <x1 is A2 AND x2 is A2 AND x3 is A1 THEN \\\\(y = (1 + x_1)^{0.5} + (x_2)^{-1} + (x_3)^{-1.5})^2\\\\)\n",
    " \n",
    " "
   ]
  },
  {
   "cell_type": "markdown",
   "metadata": {},
   "source": [
    "References:\n",
    "\n",
    "Fuzzy Logic - Inference System. (n.d.). TutorialsPoint. https://www.tutorialspoint.com/fuzzy_logic/fuzzy_logic_inference_system.htm\n",
    "\n",
    "Sinc Function. (2020). In Wikipedia. https://en.wikipedia.org/wiki/Sinc_function\n",
    "\n",
    "Hamarsheh, Q. (n.d.). Neural Networks and Fuzzy Logic. Philadelphia University. https://www.philadelphia.edu.jo/academics/qhamarsheh/uploads/Lecture%2021_Sugeno%20Fuzzy%20Models.pdf\n",
    "\n",
    "Sugeno Fuzzy Model. (2015). Research hubs. http://researchhubs.com/post/engineering/fuzzy-system/takagi-sugeno-fuzzy-model.html\n",
    "\n",
    "Cococcioni, M., Corsini, G., Lazzerini, B., & Marcelloni, F. (2008). Solving the ocean color inverse problem by using evolutionary multi-objective optimization of neuro-fuzzy systems. International Journal of Knowledge Based Intelligent Engineering Systems, 12(5/6), 339–355. "
   ]
  },
  {
   "cell_type": "code",
   "execution_count": null,
   "metadata": {},
   "outputs": [],
   "source": []
  }
 ],
 "metadata": {
  "kernelspec": {
   "display_name": "Python 3",
   "language": "python",
   "name": "python3"
  },
  "language_info": {
   "codemirror_mode": {
    "name": "ipython",
    "version": 3
   },
   "file_extension": ".py",
   "mimetype": "text/x-python",
   "name": "python",
   "nbconvert_exporter": "python",
   "pygments_lexer": "ipython3",
   "version": "3.7.9"
  }
 },
 "nbformat": 4,
 "nbformat_minor": 2
}
