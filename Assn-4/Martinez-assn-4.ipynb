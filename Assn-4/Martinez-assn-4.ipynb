{
 "cells": [
  {
   "cell_type": "markdown",
   "metadata": {},
   "source": [
    "# Martinez Assn 4\n",
    "## Support Vector Machines"
   ]
  },
  {
   "cell_type": "markdown",
   "metadata": {},
   "source": [
    "### Part 1 - Theory"
   ]
  },
  {
   "cell_type": "markdown",
   "metadata": {},
   "source": [
    "### a. You have a choice of handling a binary classification task using number of misclassifications as the performance measure and maximizing the margin between the two classes as the performance measure. On what factors does your decision depend? Provide a formal explanation, supported by theorems and ideas presented in the readings associated with this topic."
   ]
  },
  {
   "cell_type": "markdown",
   "metadata": {},
   "source": [
    "A main consideration of leveraging this particular function is whether or not the data is linearly separable. This is crucial because the criterion function is a stepwise constant which makes it a weak candidate for gradient search (Gopal, 2020). In other words, it may not be possible to properly minimize loss and identify proper weights when the decision boundary is nonlinear.\n",
    "\n",
    "\n",
    "This then leads us into the second option, maximizing the margin. Since functions such as the perceptron algorithm do not have a particular set of boundaries, there are several ways that a linear boundary can be constructed(Gopal, 2020). While this may sound useful, it has two main issues: \n",
    "\n",
    "- The problem must be NP-Complete. That is, the separation could be determined by an exhaustive brute-force search(Dahlke, 2020). \n",
    "- Even in the event that the former is achieved, the model will not extrapolate well to new data in the event of points near the boundary because there will be many functions that meet the criteria.\n",
    "\n",
    "With the addition of a margin, we can then use a function such as the hinge loss function to maximize our boundaries and penalize misclassified points(Narkhede, 2018). This is ideal because maximizing the boundary is the same as minimizing the loss.\n",
    "\n",
    "That is,\n",
    "\n",
    "\\\\[ \\max(0, 1 - y_i [w^Tx_i + b]) = 0 \\\\]\n",
    "\\\\[ \\Rightarrow y_i [w^Tx_i + b] = 1\\\\]\n",
    "\n",
    "\\\\[\\textbf{x}^+ \\cdot \\frac{\\textbf{w}}{\\lVert \\textbf{w} \\rVert} \n",
    "- \\textbf{x}^- \\cdot \\frac{\\textbf{w}}{\\lVert \\textbf{w} \\rVert}  \n",
    " = \\frac{1 - b}{\\lVert \\textbf{w} \\rVert} \n",
    " - \\frac{-b - 1}{\\lVert \\textbf{w} \\rVert} \n",
    " = \\frac{2}{\\lVert \\textbf{w} \\rVert}\n",
    "\\\\]\n",
    "\n",
    "\n",
    "which leads us to the minimizing function(Narkhede, 2018):\n",
    "\n",
    "\\\\[ \\min \\frac{1}{2}\\lVert \\textbf{w} \\rVert ^2 \\\\]\n",
    "\n",
    "\n",
    "So, in nonlinear cases this would be a more ideal situation since it penalizes misclassifications, maximizes the boundaries so as to extrapolate better, and is ideal for higher dimensional data."
   ]
  },
  {
   "cell_type": "markdown",
   "metadata": {},
   "source": [
    "### b. You have a choice of handling a binary classification task using (i) linear SVM, and (ii) perceptron algorithm. On what factors does your decision depend? Provide a formal explanation, supported by theorems and ideas presented in the readings associated with this topic.\n",
    "\n",
    "\n",
    "The linear SVM is as follows:\n",
    " \\\\[\\min \\|w\\|_2 + C\\sum_{i = 1}^{n}(1 - y_i(wx_i + w_0))_+\\\\]\n",
    " \n",
    " and the Perceptron is:\n",
    " \n",
    " \\\\[\\min \\sum_{i = 1}^{n}(- y_i(wx_i + w_0))_+\\\\]\n",
    " \n",
    " \n",
    "so it's clear that the goal of them is similar from a mathematical perspective(xxx222, 2018).\n",
    "\n",
    "The main difference is the addition of a regularization term and more efficient optimization for the SVM. \n",
    "\n",
    "Some of the main considerations include\n",
    "\n",
    "- Is the data linearly separable? This would apply to both, but would be important to see if either were a viable option from the start. This is the most critical point as datasets in the real world are seldom linearly separable(Gopal, 2020). Turns out that the perceptron algorithm fails here, hence it is seldom used in practice.\n",
    "\n",
    "- How distant are the classes? Even if a dataset is linearly separable, the margins may be incredibly small. (Oh, n.d.).\n",
    "\n",
    "- Do we need some lenience? Say we had one point that was super close to the decision boundary and within the margins, but it may have been an outlier. The perceptron algorithm may never converge if it cannot find a good boundary.\n",
    "\n"
   ]
  },
  {
   "cell_type": "markdown",
   "metadata": {},
   "source": [
    "### The sinc function is one of the commonly used datasets for testing nonlinear regression algorithms. This function is given by the following equation:\n",
    "\n",
    "\n",
    "Familiarize yourself with the SVM tools in Python, which can be found within your topic materials. \n",
    "\n",
    "Create a Jupyter notebook and implement the following (in Python):\n",
    "\n",
    "    (a) Generate 50 data points from this function in the range [– 3, 3]. \n",
    "    (b) Add Gaussian noise to the data.\n",
    "    (c) Train an SVM regressor with the data generated in (a). Define (and explain) suitable parameters required for training the regressor. \n",
    "    (d) Describe the functionality of the regressor.\n",
    "    (e) Discuss the potential use of the regressor and quantify its accuracy."
   ]
  },
  {
   "cell_type": "code",
   "execution_count": 2,
   "metadata": {},
   "outputs": [],
   "source": [
    "import numpy as np # for the linspace and sinc functions\n",
    "import pandas as pd # cus dataframes are cooler than arrays\n",
    "from sklearn.svm import SVR # Support Vector Regressor\n",
    "from matplotlib import pyplot as plt # to look at the data\n",
    "from sklearn import metrics\n",
    "%matplotlib inline "
   ]
  },
  {
   "cell_type": "code",
   "execution_count": 4,
   "metadata": {},
   "outputs": [],
   "source": [
    "# We can use the linspace function to generate some easy data\n",
    "# This will generate evenly spaced data between two endpoints. We can use this as input for the sinc function.\n",
    "X = np.linspace(-3, 3, 50)"
   ]
  },
  {
   "cell_type": "markdown",
   "metadata": {},
   "source": [
    "So the sinc function is defined as\n",
    "\n",
    "\\\\[ \\frac{\\sin(\\pi x)}{\\pi x} \\\\]\n",
    "\n",
    "Which is useful in Fourier transform signal theory(Weisstein, 2020). It's short for sine cardinal function, also called the 'sampling function.'"
   ]
  },
  {
   "cell_type": "code",
   "execution_count": 5,
   "metadata": {},
   "outputs": [
    {
     "name": "stdout",
     "output_type": "stream",
     "text": [
      "[ 3.89817183e-17  4.15114091e-02  8.03754744e-02  1.10560173e-01\n",
      "  1.26741226e-01  1.25106539e-01  1.04020292e-01  6.44510924e-02\n",
      "  1.00940913e-02 -5.28473225e-02 -1.16213079e-01 -1.70721641e-01\n",
      " -2.07001488e-01 -2.16703178e-01 -1.93561426e-01 -1.34277406e-01\n",
      " -3.91083073e-02  8.79177183e-02  2.39201032e-01  4.04176345e-01\n",
      "  5.70268753e-01  7.24101450e-01  8.52825194e-01  9.45423163e-01\n",
      "  9.93845462e-01  9.93845462e-01  9.45423163e-01  8.52825194e-01\n",
      "  7.24101450e-01  5.70268753e-01  4.04176345e-01  2.39201032e-01\n",
      "  8.79177183e-02 -3.91083073e-02 -1.34277406e-01 -1.93561426e-01\n",
      " -2.16703178e-01 -2.07001488e-01 -1.70721641e-01 -1.16213079e-01\n",
      " -5.28473225e-02  1.00940913e-02  6.44510924e-02  1.04020292e-01\n",
      "  1.25106539e-01  1.26741226e-01  1.10560173e-01  8.03754744e-02\n",
      "  4.15114091e-02  3.89817183e-17]\n"
     ]
    }
   ],
   "source": [
    "# Let's use our data to generate the sinc data using the built-in numpy function:\n",
    "y = np.sinc(X)\n",
    "print(y)"
   ]
  },
  {
   "cell_type": "code",
   "execution_count": 6,
   "metadata": {
    "scrolled": true
   },
   "outputs": [
    {
     "name": "stdout",
     "output_type": "stream",
     "text": [
      "[[ 0.07409175]\n",
      " [-0.08493496]\n",
      " [-0.04550208]\n",
      " [-0.07889859]\n",
      " [ 0.11598632]\n",
      " [ 0.18964409]\n",
      " [ 0.10800038]\n",
      " [ 0.01926231]\n",
      " [ 0.01630129]\n",
      " [-0.10540829]\n",
      " [ 0.10272037]\n",
      " [ 0.22280725]\n",
      " [-0.02033732]\n",
      " [ 0.10196161]\n",
      " [-0.07604723]\n",
      " [ 0.06620133]\n",
      " [-0.05738235]\n",
      " [ 0.08030428]\n",
      " [-0.04578446]\n",
      " [-0.01205431]\n",
      " [-0.08108028]\n",
      " [ 0.12279236]\n",
      " [-0.03105089]\n",
      " [ 0.06472172]\n",
      " [ 0.04654086]\n",
      " [ 0.09019587]\n",
      " [-0.27975135]\n",
      " [-0.08120539]\n",
      " [-0.04973274]\n",
      " [-0.06031299]\n",
      " [-0.05941408]\n",
      " [ 0.06389396]\n",
      " [-0.00087846]\n",
      " [-0.043926  ]\n",
      " [-0.02509692]\n",
      " [-0.14424321]\n",
      " [ 0.04559541]\n",
      " [-0.02916041]\n",
      " [-0.04577316]\n",
      " [-0.00061845]\n",
      " [-0.01846713]\n",
      " [-0.17091548]\n",
      " [ 0.00627444]\n",
      " [-0.0267165 ]\n",
      " [ 0.0575752 ]\n",
      " [-0.15643914]\n",
      " [ 0.0819316 ]\n",
      " [ 0.00394676]\n",
      " [ 0.05980855]\n",
      " [ 0.18698279]]\n"
     ]
    }
   ],
   "source": [
    "# Now we need to generate some Gaussian noise to dirty up the signal. \n",
    "mu = 0\n",
    "sigma = 0.1\n",
    "\n",
    "# The data needs to be the same shape as the signal data\n",
    "noise = np.random.normal(mu, sigma, [50, 1])\n",
    "\n",
    "print(noise)"
   ]
  },
  {
   "cell_type": "code",
   "execution_count": 7,
   "metadata": {},
   "outputs": [],
   "source": [
    "signal = pd.DataFrame(y)"
   ]
  },
  {
   "cell_type": "code",
   "execution_count": 8,
   "metadata": {},
   "outputs": [
    {
     "data": {
      "text/plain": [
       "[<matplotlib.lines.Line2D at 0x7f611017bb10>]"
      ]
     },
     "execution_count": 8,
     "metadata": {},
     "output_type": "execute_result"
    },
    {
     "data": {
      "image/png": "[encoded data removed]",
      "text/plain": [
       "<Figure size 432x288 with 1 Axes>"
      ]
     },
     "metadata": {
      "needs_background": "light"
     },
     "output_type": "display_data"
    }
   ],
   "source": [
    "# Here is the data prior to the Gaussian noise added:\n",
    "\n",
    "plt.plot(y)"
   ]
  },
  {
   "cell_type": "code",
   "execution_count": 9,
   "metadata": {},
   "outputs": [],
   "source": [
    "# Add the noise to the signal\n",
    "signal = signal + noise"
   ]
  },
  {
   "cell_type": "code",
   "execution_count": 11,
   "metadata": {},
   "outputs": [
    {
     "data": {
      "text/plain": [
       "[<matplotlib.lines.Line2D at 0x7f60b18a6ed0>]"
      ]
     },
     "execution_count": 11,
     "metadata": {},
     "output_type": "execute_result"
    },
    {
     "data": {
      "image/png": "[encoded data removed]",
      "text/plain": [
       "<Figure size 432x288 with 1 Axes>"
      ]
     },
     "metadata": {
      "needs_background": "light"
     },
     "output_type": "display_data"
    }
   ],
   "source": [
    "# Let's look at the data after the noise has been added:\n",
    "\n",
    "plt.plot(signal)"
   ]
  },
  {
   "cell_type": "code",
   "execution_count": 16,
   "metadata": {
    "scrolled": true
   },
   "outputs": [
    {
     "data": {
      "text/plain": [
       "(50, 1)"
      ]
     },
     "execution_count": 16,
     "metadata": {},
     "output_type": "execute_result"
    }
   ],
   "source": [
    "X = X.reshape(-1, 1)\n",
    "np.shape(X)\n"
   ]
  },
  {
   "cell_type": "code",
   "execution_count": 20,
   "metadata": {
    "scrolled": true
   },
   "outputs": [
    {
     "data": {
      "text/plain": [
       "(50, 1)"
      ]
     },
     "execution_count": 20,
     "metadata": {},
     "output_type": "execute_result"
    }
   ],
   "source": [
    "#signal.loc[0:,'X']\n",
    "\n",
    "signal.shape"
   ]
  },
  {
   "cell_type": "markdown",
   "metadata": {},
   "source": [
    "The Support Vector Regression class has three main parameters, and one additional specific to the polynomial kernel.\n",
    "\n",
    "SVR gives us the flexibility to define how much error is acceptable in our model and will find an appropriate line (or hyperplane in higher dimensions) to fit the data (Sharp, 2020).\n",
    "\n",
    "The first value, \"kernel\", determines which kernel that we set. There are three main ones that are tried below. A kernel is a function that assists in moving the input space to a higher dimension to assist in creating a a better line fit or a hyperplane for discriminant analysis. There are three that are tried here:\n",
    "\n",
    " - RBF. This is the default option for SVR. This kernel is defined as:\n",
    " \n",
    " \\\\[K(\\textbf{x}, \\textbf{x}') = \\exp \\big(\\frac{\\lVert \\textbf{x} - \\textbf{x}' \\rVert^2}{2 \\sigma^2} \\big) \\\\]\n",
    " \n",
    " Which uses the squared Euclidean space and increases with distance and ranges between zero (Wikipedia, 2019).\n",
    " \n",
    " - The next kernel is the linear kernel. Mathematically,\n",
    " \n",
    " \\\\[ \\min \\frac{1}{2} \\lVert \\textbf{w} \\rVert^2 \\\\]\n",
    " \n",
    " with respect to the constraints\n",
    " \n",
    " \\\\[ | y_i - w_i x_i | \\le \\epsilon \\\\]\n",
    " \n",
    "  \n",
    " - Poly Kernel: This particular kernel is interesting because it allows us to map our input space using combinations of our features as well as polynomials of them individually (Wikipedia, 2019).\n",
    " \n",
    " \\\\[ K(x,y) = (x^Ty + c)^d \\\\]\n",
    " \n",
    " where d is the degree of polynomial.\n",
    " \n",
    " \n",
    " - Epsilon: This value is used to handle our maximum allowable error. The main benefit of the SVR model is that you can set the amount of error that is allowed. As opposed to OLS where the idea is to minimize error through coefficients, here it is a parameter. \n",
    " \n",
    "\n",
    " \n",
    " - C parameter is also known as tolerance. As C increases, our tolerance for points outside of ϵ also increases. As C approaches 0, the tolerance approaches 0 (Sharp, 2020).\n",
    " \n",
    " \n",
    " - gamma: Chris Albon (2017) puts the definition of this nicely: \"gamma is a parameter of the RBF kernel and can be thought of as the ‘spread’ of the kernel and therefore the decision region. When gamma is low, the ‘curve’ of the decision boundary is very low and thus the decision region is very broad. When gamma is high, the ‘curve’ of the decision boundary is high, which creates islands of decision-boundaries around data points.\"\n",
    " \n",
    "\n"
   ]
  },
  {
   "cell_type": "code",
   "execution_count": 27,
   "metadata": {},
   "outputs": [
    {
     "data": {
      "text/plain": [
       "[<matplotlib.lines.Line2D at 0x7f60b141ab50>]"
      ]
     },
     "execution_count": 27,
     "metadata": {},
     "output_type": "execute_result"
    },
    {
     "data": {
      "image/png": "[encoded data removed]",
      "text/plain": [
       "<Figure size 432x288 with 1 Axes>"
      ]
     },
     "metadata": {
      "needs_background": "light"
     },
     "output_type": "display_data"
    }
   ],
   "source": [
    "svr_rbf = SVR(kernel='rbf', C=100, gamma=0.1, epsilon=.1).fit(X, signal[0])\n",
    "\n",
    "y_hat = svr_rbf.predict(X)\n",
    "\n",
    "plt.title('Support Vector Regression - RBF Kernel')\n",
    "plt.xlabel('Signal')\n",
    "plt.plot(y_hat)\n",
    "plt.plot(signal[0])"
   ]
  },
  {
   "cell_type": "code",
   "execution_count": 26,
   "metadata": {},
   "outputs": [
    {
     "data": {
      "text/plain": [
       "[<matplotlib.lines.Line2D at 0x7f60b13b3c50>]"
      ]
     },
     "execution_count": 26,
     "metadata": {},
     "output_type": "execute_result"
    },
    {
     "data": {
      "image/png": "[encoded data removed]",
      "text/plain": [
       "<Figure size 432x288 with 1 Axes>"
      ]
     },
     "metadata": {
      "needs_background": "light"
     },
     "output_type": "display_data"
    }
   ],
   "source": [
    "lin_rbf = SVR(kernel='linear', C=100, gamma=0.1, epsilon=.1).fit(X, signal[0])\n",
    "\n",
    "l_preds = lin_rbf.predict(X)\n",
    "\n",
    "plt.title('Support Vector Regression - Linear Kernel')\n",
    "plt.xlabel('Signal')\n",
    "plt.plot(l_preds)\n",
    "plt.plot(signal[0])"
   ]
  },
  {
   "cell_type": "code",
   "execution_count": 25,
   "metadata": {},
   "outputs": [
    {
     "data": {
      "text/plain": [
       "[<matplotlib.lines.Line2D at 0x7f60b1441f50>]"
      ]
     },
     "execution_count": 25,
     "metadata": {},
     "output_type": "execute_result"
    },
    {
     "data": {
      "image/png": "[encoded data removed]",
      "text/plain": [
       "<Figure size 432x288 with 1 Axes>"
      ]
     },
     "metadata": {
      "needs_background": "light"
     },
     "output_type": "display_data"
    }
   ],
   "source": [
    "lin_rbf = SVR(kernel='poly', C=100, gamma=0.1, epsilon=.1, degree=3).fit(X, signal[0])\n",
    "\n",
    "p_preds = lin_rbf.predict(X)\n",
    "\n",
    "plt.title('Support Vector Regression - Poly Kernel')\n",
    "plt.xlabel('Signal')\n",
    "plt.plot(p_preds)\n",
    "plt.plot(signal[0])"
   ]
  },
  {
   "cell_type": "code",
   "execution_count": 35,
   "metadata": {},
   "outputs": [
    {
     "name": "stdout",
     "output_type": "stream",
     "text": [
      " RBF MSE: 0.04202061997234624\n",
      " Linear MSE:  0.1341288334747976\n",
      " Poly MSE:  0.13433581560667002\n"
     ]
    }
   ],
   "source": [
    "\n",
    "print(f' RBF MSE:', metrics.mean_squared_error(signal, y_hat))\n",
    "\n",
    "print(f' Linear MSE: ', metrics.mean_squared_error(signal, l_preds))\n",
    "\n",
    "print(f' Poly MSE: ', metrics.mean_squared_error(signal, p_preds))"
   ]
  },
  {
   "cell_type": "markdown",
   "metadata": {},
   "source": [
    "## Conclusion\n",
    "\n",
    "The RBF kernel was by far the best one used. This is due to the free parameter sigma, that allows high variance and lets us track the sinc function better than the other two. The default parameters were used and created the most acceptable function. With alterations to the parameters, this could certainly be made to a better fit.\n",
    "\n",
    "The linear kernel was terrible, which was expected. The data is clearly nonlinear, so this was merely for example. It had an MSE of 0.13.\n",
    "\n",
    "Lastly the Poly kernel was about the same as the linear kernel. I made several changes to the respective parmeters and poly degrees, but could not come up with anything close to RBF.\n",
    "\n",
    "Overall the RBF is clearly the winner for a nonlinear SVR model."
   ]
  },
  {
   "cell_type": "markdown",
   "metadata": {},
   "source": [
    "After you assess the importance and approach to using the sinc function in conjunction with SVM, refer to \"A Signal Theory Approach to Support Vector Classification: The Sinc Kernel\" within your topic materials. You are not expected to grasp all the concepts and theorems described in the article, but skim through it on a high level, to get some insight into the work it describes. Upon skimming through the article, expand your discussion in (e) above, to include some of the relevant points.\n",
    "\n"
   ]
  },
  {
   "cell_type": "markdown",
   "metadata": {},
   "source": [
    "References\n",
    "\n",
    "Gopal, M. Applied Machine Learning. New York. McGraw Hill.\n",
    "\n",
    "Dahlke, K. \"NP-complete problems\". Math Reference Project. Retrieved 2020-09-27.\n",
    "\n",
    "Narkhede, S. (2018). Understanding Confusion Matrix. Towards Data Science. https://towardsdatascience.com/understanding-confusion-matrix-a9ad42dcfd62\n",
    "\n",
    "Liu, C. (2020). A Top Machine Learning Algorithm Explained: Support Vector Machines (SVM). KDNuggets. https://www.kdnuggets.com/2020/03/machine-learning-algorithm-svm-explained.html\n",
    "\n",
    "xxx222 (https://stats.stackexchange.com/users/90896/xxx222) (2018). Difference between a SVM and a perceptron, URL (version: 2018-09-30). Cross Validated. https://stats.stackexchange.com/q/369480\n",
    "\n",
    "Oh, S. (n.d.). Perceptron and SVM. University of Washington. https://courses.cs.washington.edu/courses/cse446/19au/7perceptron_annotated.pdf\n",
    "\n",
    "Weisstein, Eric W. (accessed September, 2020). \"Sinc Function.\" From MathWorld--A Wolfram Web Resource. https://mathworld.wolfram.com/SincFunction.html \n",
    "\n",
    "Hsia, J., Lin, C. (n.d.). Parameter Selection for Linear Support Vector Regression. National Taiwan University. https://www.csie.ntu.edu.tw/~cjlin/libsvmtools/warm-start/svr-param.pdf\n",
    "\n",
    "Sharp, T. (2020). An Introduction to Support Vector Regression (SVR). Towards Data Science. https://towardsdatascience.com/an-introduction-to-support-vector-regression-svr-a3ebc1672c2\n",
    "\n",
    "Albon, C. (2017). SVC Parameters When Using RBF Kernel. Data Science & Machine Learning. https://chrisalbon.com/machine_learning/support_vector_machines/svc_parameters_using_rbf_kernel/\n",
    "\n",
    "Polynomial Kernel. (2019). In Wikipedia. https://en.wikipedia.org/wiki/Polynomial_kernel\n",
    "\n",
    "Radial Basis Function Kernel. (2019). In Wikipedia. https://en.wikipedia.org/wiki/Radial_basis_function_kernel\n",
    "\n",
    "Loukas, F. (2020). Support Vector Machines (SVM) clearly explained: A python tutorial for classification problems with 3D plots. Towards Data Science. https://towardsdatascience.com/support-vector-machines-svm-clearly-explained-a-python-tutorial-for-classification-problems-29c539f3ad8\n",
    "\n",
    "Crammer, K., Singer, Y. (2001). On the Algorithmic Implementation ofMulticlass Kernel-based Vector Machines. Journal of Machine Learning Research. https://jmlr.csail.mit.edu/papers/volume2/crammer01a/crammer01a.pdf\n",
    "\n",
    "Loss Function. (2020). In Wikipedia. https://en.wikipedia.org/wiki/Loss_function\n",
    "\n"
   ]
  }
 ],
 "metadata": {
  "kernelspec": {
   "display_name": "Python 3",
   "language": "python",
   "name": "python3"
  },
  "language_info": {
   "codemirror_mode": {
    "name": "ipython",
    "version": 3
   },
   "file_extension": ".py",
   "mimetype": "text/x-python",
   "name": "python",
   "nbconvert_exporter": "python",
   "pygments_lexer": "ipython3",
   "version": "3.7.9"
  }
 },
 "nbformat": 4,
 "nbformat_minor": 4
}
